{
 "cells": [
  {
   "cell_type": "markdown",
   "id": "9fa03807",
   "metadata": {},
   "source": [
    "# Unsupervised Learning\n",
    "\n",
    "## What is Unsupervised Learning?\n",
    "Unsupervised learning is about finding hidden patterns in data **without using labels**. Unlike supervised learning, there's no guidance — the algorithm just explores the data and discovers structure on its own.\n",
    "\n",
    "Two main techniques:\n",
    "- **Clustering**: Grouping similar data points together\n",
    "- **Dimension reduction**: Simplifying data by reducing the number of features while keeping essential information\n",
    "\n",
    "## Supervised vs. Unsupervised\n",
    "- **Supervised**: You have inputs and outputs. The goal is to learn the mapping (like predicting cancer type from tumor size).\n",
    "- **Unsupervised**: You only have inputs. The goal is to discover hidden patterns (like clustering customer behavior).\n",
    "\n",
    "## The Iris Dataset\n",
    "A classic dataset used in ML:\n",
    "- 3 species of iris flowers\n",
    "- Each sample has 4 measurements: petal length, petal width, sepal length, sepal width\n",
    "- This means the data is **4-dimensional**\n",
    "\n",
    "## Data Format\n",
    "- Data is stored as a 2D NumPy array:\n",
    "  - Rows = samples (individual flowers)\n",
    "  - Columns = features (measurements)\n",
    "\n",
    "## k-Means Clustering\n",
    "A popular clustering method:\n",
    "- You choose the number of clusters (`k`)\n",
    "- The algorithm finds `k` clusters by grouping similar data points\n",
    "- Each cluster has a **centroid** (average of points in that group)\n",
    "- New data can be assigned to clusters by checking which centroid it’s closest to\n",
    "\n",
    "### How to use k-means with `scikit-learn`:\n",
    "1. Import:  \n",
    "   `from sklearn.cluster import KMeans`\n",
    "2. Create a model:  \n",
    "   `model = KMeans(n_clusters=3)`\n",
    "3. Fit the model to the data:  \n",
    "   `model.fit(samples)`\n",
    "4. Predict labels (cluster numbers) for each sample:  \n",
    "   `labels = model.predict(samples)`\n",
    "5. To predict for new samples:  \n",
    "   `new_labels = model.predict(new_samples)`\n",
    "\n",
    "## Visualizing Clusters\n",
    "Scatter plots help visualize the clustering:\n",
    "- Use matplotlib (`import matplotlib.pyplot as plt`)\n",
    "- Choose two features to plot (e.g., sepal length vs. petal length)\n",
    "- Color the points based on cluster label (`c=labels`)\n",
    "- Display with `plt.show()`\n",
    "\n",
    "## Final Thoughts\n",
    "Unsupervised learning helps make sense of unlabeled data — it's about **exploration** rather than **prediction**. You don’t need to know the answers beforehand; you let the data tell its own story.\n"
   ]
  },
  {
   "cell_type": "code",
   "execution_count": 1,
   "id": "05475dd8",
   "metadata": {},
   "outputs": [
    {
     "ename": "NameError",
     "evalue": "name 'points' is not defined",
     "output_type": "error",
     "traceback": [
      "\u001b[1;31m---------------------------------------------------------------------------\u001b[0m",
      "\u001b[1;31mNameError\u001b[0m                                 Traceback (most recent call last)",
      "Cell \u001b[1;32mIn[1], line 8\u001b[0m\n\u001b[0;32m      5\u001b[0m model \u001b[38;5;241m=\u001b[39m KMeans(n_clusters\u001b[38;5;241m=\u001b[39m\u001b[38;5;241m3\u001b[39m)\n\u001b[0;32m      7\u001b[0m \u001b[38;5;66;03m# Fit model to points\u001b[39;00m\n\u001b[1;32m----> 8\u001b[0m model\u001b[38;5;241m.\u001b[39mfit(\u001b[43mpoints\u001b[49m)\n\u001b[0;32m     10\u001b[0m \u001b[38;5;66;03m# Determine the cluster labels of new_points: labels\u001b[39;00m\n\u001b[0;32m     11\u001b[0m labels \u001b[38;5;241m=\u001b[39m model\u001b[38;5;241m.\u001b[39mpredict(new_points)\n",
      "\u001b[1;31mNameError\u001b[0m: name 'points' is not defined"
     ]
    }
   ],
   "source": [
    "# Import KMeans\n",
    "from sklearn.cluster import KMeans\n",
    "\n",
    "# Create a KMeans instance with 3 clusters: model\n",
    "model = KMeans(n_clusters=3)\n",
    "\n",
    "# Fit model to points\n",
    "model.fit(points)\n",
    "\n",
    "# Determine the cluster labels of new_points: labels\n",
    "labels = model.predict(new_points)\n",
    "\n",
    "# Print cluster labels of new_points\n",
    "print(labels)\n"
   ]
  },
  {
   "cell_type": "code",
   "execution_count": null,
   "id": "2b0b764b",
   "metadata": {},
   "outputs": [],
   "source": [
    "# Import pyplot\n",
    "import matplotlib.pyplot as plt\n",
    "\n",
    "# Assign the columns of new_points: xs and ys\n",
    "xs = new_points[:, 0]\n",
    "ys = new_points[:, 1]\n",
    "\n",
    "# Make a scatter plot of xs and ys, using labels to define the colors\n",
    "plt.scatter(xs, ys, c=labels, alpha=0.5)\n",
    "\n",
    "# Assign the cluster centers: centroids\n",
    "centroids = model.cluster_centers_\n",
    "\n",
    "# Assign the columns of centroids: centroids_x, centroids_y\n",
    "centroids_x = centroids[:, 0]\n",
    "centroids_y = centroids[:, 1]\n",
    "\n",
    "# Make a scatter plot of centroids_x and centroids_y\n",
    "plt.scatter(centroids_x, centroids_y, marker='D', s=50, c='red')  # Diamonds in red color\n",
    "\n",
    "plt.title(\"Clustered Points with Centroids\")\n",
    "plt.xlabel(\"X-coordinate\")\n",
    "plt.ylabel(\"Y-coordinate\")\n",
    "plt.show()"
   ]
  }
 ],
 "metadata": {
  "kernelspec": {
   "display_name": "Python 3",
   "language": "python",
   "name": "python3"
  },
  "language_info": {
   "codemirror_mode": {
    "name": "ipython",
    "version": 3
   },
   "file_extension": ".py",
   "mimetype": "text/x-python",
   "name": "python",
   "nbconvert_exporter": "python",
   "pygments_lexer": "ipython3",
   "version": "3.12.10"
  }
 },
 "nbformat": 4,
 "nbformat_minor": 5
}
