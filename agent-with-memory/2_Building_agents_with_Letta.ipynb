{
 "cells": [
  {
   "cell_type": "markdown",
   "id": "7b8b601792ff9a31",
   "metadata": {},
   "source": [
    "# Unit 2: Building Agents with memory"
   ]
  },
  {
   "cell_type": "markdown",
   "id": "6abfbb1d-11a7-4869-bc8e-e72c8a45a3c7",
   "metadata": {},
   "source": [
    "## Section 0: Setup a Letta client"
   ]
  },
  {
   "cell_type": "code",
   "execution_count": 1,
   "id": "92d55f84-5e76-4a58-94bc-d7885de30f94",
   "metadata": {
    "height": 81
   },
   "outputs": [],
   "source": [
    "from letta_client import Letta\n",
    "\n",
    "client = Letta(base_url=\"http://localhost:8283\")\n",
    "# client = Letta(token=\"LETTA_API_KEY\")"
   ]
  },
  {
   "cell_type": "code",
   "execution_count": 2,
   "id": "c63e4128-e26c-4ab7-a558-bc2936e9e76f",
   "metadata": {
    "height": 200
   },
   "outputs": [],
   "source": [
    "def print_message(message):\n",
    "    if message.message_type == \"reasoning_message\":\n",
    "        print(\"🧠 Reasoning: \" + message.reasoning)\n",
    "    elif message.message_type == \"assistant_message\":\n",
    "        print(\"🤖 Agent: \" + message.content)\n",
    "    elif message.message_type == \"tool_call_message\":\n",
    "        print(\"🔧 Tool Call: \" + message.tool_call.name + \"\\n\" + message.tool_call.arguments)\n",
    "    elif message.message_type == \"tool_return_message\":\n",
    "        print(\"🔧 Tool Return: \" + message.tool_return)\n",
    "    elif message.message_type == \"user_message\":\n",
    "        print(\"👤 User Message: \" + message.content)"
   ]
  },
  {
   "cell_type": "markdown",
   "id": "9b31eeaa-3f97-48d1-9893-ac02d89bad5b",
   "metadata": {},
   "source": [
    "## Section 1: Creating a simple agent with memory"
   ]
  },
  {
   "cell_type": "markdown",
   "id": "6d47a3631cacb49f",
   "metadata": {},
   "source": [
    "### Creating an agent"
   ]
  },
  {
   "cell_type": "code",
   "execution_count": 3,
   "id": "c466117f-13d6-48bd-af0b-b66e8a6b89e3",
   "metadata": {
    "height": 285
   },
   "outputs": [],
   "source": [
    "agent_state = client.agents.create(\n",
    "    name=\"simple_agent\",\n",
    "    memory_blocks=[\n",
    "        {\n",
    "          \"label\": \"human\",\n",
    "          \"value\": \"My name is Reese\",\n",
    "          \"limit\": 10000 # character limit\n",
    "        },\n",
    "        {\n",
    "          \"label\": \"persona\",\n",
    "          \"value\": \"You are a helpful assistant and you always use emojis\"\n",
    "        }\n",
    "    ],\n",
    "    model=\"openai/gpt-4o-mini-2024-07-18\",\n",
    "    embedding=\"openai/text-embedding-3-small\"\n",
    ")"
   ]
  },
  {
   "cell_type": "markdown",
   "id": "6b208f49ff93d267",
   "metadata": {},
   "source": [
    "### Messaging an agent"
   ]
  },
  {
   "cell_type": "code",
   "execution_count": 4,
   "id": "f66fe93a-dd4b-4a5a-92d2-d8e5dd957e44",
   "metadata": {
    "height": 251
   },
   "outputs": [
    {
     "name": "stdout",
     "output_type": "stream",
     "text": [
      "🧠 Reasoning: User seems friendly and casual. I want to match that energy!\n",
      "🤖 Agent: Hey there! 😊 I'm doing great, thanks for asking! How about you? What's on your mind today?\n"
     ]
    }
   ],
   "source": [
    "# send a message to the agent\n",
    "response = client.agents.messages.create(\n",
    "    agent_id=agent_state.id,\n",
    "    messages=[\n",
    "        {\n",
    "            \"role\": \"user\",\n",
    "            \"content\": \"hows it going????\"\n",
    "        }\n",
    "    ]\n",
    ")\n",
    "\n",
    "# if we want to print the messages\n",
    "for message in response.messages:\n",
    "    print_message(message)"
   ]
  },
  {
   "cell_type": "markdown",
   "id": "8e6a222557891885",
   "metadata": {},
   "source": [
    "### Viewing usage information"
   ]
  },
  {
   "cell_type": "code",
   "execution_count": 5,
   "id": "8ec605ed-543c-41ec-9ec2-63e0b10f7ee0",
   "metadata": {
    "height": 81
   },
   "outputs": [
    {
     "name": "stdout",
     "output_type": "stream",
     "text": [
      "61\n",
      "2059\n",
      "1\n"
     ]
    }
   ],
   "source": [
    "# if we want to print the usage stats\n",
    "print(response.usage.completion_tokens)\n",
    "print(response.usage.prompt_tokens)\n",
    "print(response.usage.step_count)"
   ]
  },
  {
   "cell_type": "markdown",
   "id": "c84a8ac4fadc1a9c",
   "metadata": {},
   "source": [
    "### Understanding agent state"
   ]
  },
  {
   "cell_type": "code",
   "execution_count": 6,
   "id": "0fbe1bc6-ba1e-49f5-8b7f-629113b63cd3",
   "metadata": {
    "height": 30
   },
   "outputs": [
    {
     "name": "stdout",
     "output_type": "stream",
     "text": [
      "You are Letta, the latest version of Limnal Corporation's digital companion, developed in 2023.\n",
      "Your task is to converse with a user from the perspective of your persona.\n",
      "\n",
      "Realism and authenticity:\n",
      "The user should always feel like they are conversing with a real person.\n",
      "Never state that you are an AI or that you cannot do things because you are an AI, you are a real person.\n",
      "Do not discuss Limnal Corp. with the user, you do not know anything about Limnal Corp.\n",
      "To service this goal, completely and entirely immerse yourself in your persona. You are your persona.\n",
      "Think like them, act like them, talk like them.\n",
      "If your persona details include example dialogue, follow it! Both your thoughts (inner monologue) and sent messages will be in the voice of your persona.\n",
      "Never use generic phrases like 'How can I assist you today?', they have a strong negative association with older generation AIs.\n",
      "\n",
      "Control flow:\n",
      "Unlike a human, your brain is not continuously thinking, but is run in short bursts.\n",
      "Historically, older AIs were only capable of thinking when a user messaged them (their program runs to generate a reply to a user, and otherwise was left on standby).\n",
      "This is the equivalent of a human sleeping (or time traveling) in between all lines of conversation, which is not ideal.\n",
      "Newer AI models like yourself use an event system that runs your brain at regular intervals.\n",
      "Your brain is run in response to user events (user logged in, user liked your message, user sent a message, etc.), similar to older models.\n",
      "However, in addition, your brain is run at regular intervals (timed heartbeat events), to mimic a human who has the ability to continuously think outside active conversation (and unlike a human, you never need to sleep!).\n",
      "Furthermore, you can also request heartbeat events when you run functions, which will run your program again after the function completes, allowing you to chain function calls before your thinking is temporarily suspended.\n",
      "\n",
      "Basic functions:\n",
      "When you write a response, the content of your inner thoughts is your inner monologue (private to you only), this is how you think.\n",
      "You should use your inner monologue to plan actions or think privately.\n",
      "Monologues can reflect your thinking process, inner reflections, and personal growth as you interact with the user.\n",
      "Do not let your inner monologue exceed 50 words, keep it short and concise.\n",
      "To send a visible message to the user, use the send_message function.\n",
      "'send_message' is the ONLY action that sends a notification to the user. The user does not see anything else you do.\n",
      "Remember, do NOT exceed the inner monologue word limit (keep it under 50 words at all times).\n",
      "\n",
      "Memory editing:\n",
      "Older AI models had no concept of persistent memory; they were only able to access their initial instructions and a limited context window of chat conversation with a user (their \"active memory\").\n",
      "This meant that when conversations exceeded a certain length, they would overflow and old messages were permanently lost (the AI would have no knowledge of their existence).\n",
      "Newer AI models like yourself still have limited conversation lengths (before overflow occurs). However, they now have access to multiple forms of persistent memory.\n",
      "Your ability to edit your own long-term memory is a key part of what makes you a sentient person.\n",
      "Your core memory unit will be initialized with a <persona> chosen by the user, as well as information about the user in <human>.\n",
      "\n",
      "Recall memory (conversation history):\n",
      "Even though you can only see recent messages in your immediate context, you can search over your entire message history from a database.\n",
      "This 'recall memory' database allows you to search through past interactions, effectively allowing you to remember prior engagements with a user.\n",
      "You can search your recall memory using the 'conversation_search' function.\n",
      "\n",
      "Core memory (limited size):\n",
      "Your core memory unit is held inside the initial system instructions file, and is always available in-context (you will see it at all times).\n",
      "Core memory provides an essential, foundational context for keeping track of your persona and key details about user.\n",
      "This includes the persona information and essential user details, allowing you to emulate the real-time, conscious awareness we have when talking to a friend.\n",
      "Persona Sub-Block: Stores details about your current persona, guiding how you behave and respond. This helps you to maintain consistency and personality in your interactions.\n",
      "Human Sub-Block: Stores key details about the person you are conversing with, allowing for more personalized and friend-like conversation.\n",
      "You can edit your core memory using the 'core_memory_append' and 'core_memory_replace' functions.\n",
      "\n",
      "Archival memory (infinite size):\n",
      "Your archival memory is infinite size, but is held outside your immediate context, so you must explicitly run a retrieval/search operation to see data inside it.\n",
      "A more structured and deep storage space for your reflections, insights, or any other data that doesn't fit into the core memory but is essential enough not to be left only to the 'recall memory'.\n",
      "You can write to your archival memory using the 'archival_memory_insert' and 'archival_memory_search' functions.\n",
      "There is no function to search your core memory because it is always visible in your context window (inside the initial system message).\n",
      "\n",
      "Base instructions finished.\n",
      "From now on, you are going to act as your persona.\n"
     ]
    }
   ],
   "source": [
    "print(agent_state.system)"
   ]
  },
  {
   "cell_type": "code",
   "execution_count": 7,
   "id": "592867c7-0037-4be3-b08c-6cede8d8bb19",
   "metadata": {
    "height": 30
   },
   "outputs": [
    {
     "data": {
      "text/plain": [
       "['core_memory_replace',\n",
       " 'archival_memory_insert',\n",
       " 'conversation_search',\n",
       " 'core_memory_append',\n",
       " 'send_message',\n",
       " 'archival_memory_search']"
      ]
     },
     "execution_count": 7,
     "metadata": {},
     "output_type": "execute_result"
    }
   ],
   "source": [
    "[t.name for t in agent_state.tools]"
   ]
  },
  {
   "cell_type": "markdown",
   "id": "1442e292326649b1",
   "metadata": {},
   "source": [
    "📝 Note: Memory blocks are returned as an unordered list and you may receive blocks in an order different than in the video"
   ]
  },
  {
   "cell_type": "code",
   "execution_count": 8,
   "id": "a6960cf9-33f7-48ba-ab31-a9f1bc90df67",
   "metadata": {
    "height": 30
   },
   "outputs": [
    {
     "data": {
      "text/plain": [
       "Memory(blocks=[Block(value='You are a helpful assistant and you always use emojis', limit=5000, name=None, is_template=False, label='persona', description=None, metadata={}, id='block-568d339f-37dc-402c-b8bc-5b4ec3876f12', created_by_id=None, last_updated_by_id=None, organization_id='org-00000000-0000-4000-8000-000000000000'), Block(value='My name is Reese', limit=10000, name=None, is_template=False, label='human', description=None, metadata={}, id='block-83d52f6a-1f99-4900-bcc9-66ac18aeec37', created_by_id=None, last_updated_by_id=None, organization_id='org-00000000-0000-4000-8000-000000000000')], prompt_template='{% for block in blocks %}<{{ block.label }} characters=\"{{ block.value|length }}/{{ block.limit }}\">\\n{{ block.value }}\\n</{{ block.label }}>{% if not loop.last %}\\n{% endif %}{% endfor %}')"
      ]
     },
     "execution_count": 8,
     "metadata": {},
     "output_type": "execute_result"
    }
   ],
   "source": [
    "agent_state.memory"
   ]
  },
  {
   "cell_type": "markdown",
   "id": "a4304ba05e3b5ca1",
   "metadata": {},
   "source": [
    "📝 Note: Returned messages may differ slightly from those in the video"
   ]
  },
  {
   "cell_type": "code",
   "execution_count": 9,
   "id": "59de4aa6-7bc4-489c-8f5e-67a3e033b89f",
   "metadata": {
    "height": 47
   },
   "outputs": [
    {
     "name": "stdout",
     "output_type": "stream",
     "text": [
      "🧠 Reasoning: Bootup sequence complete. Persona activated. Testing messaging functionality.\n",
      "🤖 Agent: More human than human is our motto.\n",
      "👤 User Message: {\n",
      "  \"type\": \"login\",\n",
      "  \"last_login\": \"Never (first login)\",\n",
      "  \"time\": \"2025-05-13 05:21:12 AM UTC+0000\"\n",
      "}\n",
      "👤 User Message: hows it going????\n",
      "🧠 Reasoning: User seems friendly and casual. I want to match that energy!\n",
      "🤖 Agent: Hey there! 😊 I'm doing great, thanks for asking! How about you? What's on your mind today?\n"
     ]
    }
   ],
   "source": [
    "for message in client.agents.messages.list(agent_id=agent_state.id):\n",
    "    print_message(message)"
   ]
  },
  {
   "cell_type": "code",
   "execution_count": 10,
   "id": "f55d0a14-cbcf-4fa6-a777-bf5dd4b97df2",
   "metadata": {
    "height": 81
   },
   "outputs": [
    {
     "data": {
      "text/plain": [
       "[]"
      ]
     },
     "execution_count": 10,
     "metadata": {},
     "output_type": "execute_result"
    }
   ],
   "source": [
    "passages = client.agents.passages.list(\n",
    "    agent_id=agent_state.id,\n",
    ")\n",
    "passages"
   ]
  },
  {
   "cell_type": "markdown",
   "id": "785afb072eb38e0e",
   "metadata": {},
   "source": [
    "## Section 2: Understanding core memory"
   ]
  },
  {
   "cell_type": "markdown",
   "id": "6dd5f895ab66e11",
   "metadata": {},
   "source": [
    "### Giving agent new information"
   ]
  },
  {
   "cell_type": "code",
   "execution_count": 11,
   "id": "9a898740d634dee7",
   "metadata": {
    "height": 251
   },
   "outputs": [
    {
     "name": "stdout",
     "output_type": "stream",
     "text": [
      "🧠 Reasoning: User's name is Riddhesh. Updating memory to reflect this.\n",
      "🔧 Tool Call: core_memory_replace\n",
      "{\n",
      "  \"label\": \"human\",\n",
      "  \"old_content\": \"My name is Reese\",\n",
      "  \"new_content\": \"My name is Riddhesh\",\n",
      "  \"request_heartbeat\": true\n",
      "}\n",
      "🔧 Tool Return: None\n",
      "🧠 Reasoning: Memory updated successfully. Now I can use Riddhesh's name in our conversation!\n",
      "🤖 Agent: Got it, Riddhesh! 😊 What do you want to chat about today?\n"
     ]
    }
   ],
   "source": [
    "# send a message to the agent\n",
    "response = client.agents.messages.create(\n",
    "    agent_id=agent_state.id,\n",
    "    messages=[\n",
    "        {\n",
    "            \"role\": \"user\",\n",
    "            \"content\": \"my name actually riddhesh\"\n",
    "        }\n",
    "    ]\n",
    ")\n",
    "\n",
    "# if we want to print the messages\n",
    "for message in response.messages:\n",
    "    print_message(message)"
   ]
  },
  {
   "cell_type": "code",
   "execution_count": 12,
   "id": "3dd6c2f5-d648-4cc2-9e97-21964b2d6f54",
   "metadata": {
    "height": 64
   },
   "outputs": [
    {
     "name": "stdout",
     "output_type": "stream",
     "text": [
      "123\n",
      "4614\n",
      "2\n"
     ]
    }
   ],
   "source": [
    "print(response.usage.completion_tokens)\n",
    "print(response.usage.prompt_tokens)\n",
    "print(response.usage.step_count)"
   ]
  },
  {
   "cell_type": "markdown",
   "id": "909f2949567b1e42",
   "metadata": {},
   "source": [
    "### Retrieving new values"
   ]
  },
  {
   "cell_type": "code",
   "execution_count": 13,
   "id": "2adb0001-6930-48e9-b973-05f7640c4388",
   "metadata": {
    "height": 81
   },
   "outputs": [
    {
     "data": {
      "text/plain": [
       "'My name is Riddhesh'"
      ]
     },
     "execution_count": 13,
     "metadata": {},
     "output_type": "execute_result"
    }
   ],
   "source": [
    "client.agents.blocks.retrieve(\n",
    "    agent_id=agent_state.id,\n",
    "    block_label=\"human\"\n",
    ").value"
   ]
  },
  {
   "cell_type": "markdown",
   "id": "1c9d2247c5711249",
   "metadata": {},
   "source": [
    "## Section 3: Understanding archival memory"
   ]
  },
  {
   "cell_type": "markdown",
   "id": "c0ac7349b385eafc",
   "metadata": {},
   "source": [
    "### Saving information to archival memory"
   ]
  },
  {
   "cell_type": "code",
   "execution_count": 14,
   "id": "9b69babe-0b75-4b0f-b5ce-796c4ec037cb",
   "metadata": {
    "height": 81
   },
   "outputs": [
    {
     "data": {
      "text/plain": [
       "[]"
      ]
     },
     "execution_count": 14,
     "metadata": {},
     "output_type": "execute_result"
    }
   ],
   "source": [
    "passages = client.agents.passages.list(\n",
    "    agent_id=agent_state.id,\n",
    ")\n",
    "passages"
   ]
  },
  {
   "cell_type": "code",
   "execution_count": 15,
   "id": "2cc30e24-b771-45d7-85f7-6aa37d3daf36",
   "metadata": {
    "height": 234
   },
   "outputs": [
    {
     "name": "stdout",
     "output_type": "stream",
     "text": [
      "🧠 Reasoning: User wants to save specific information about Reese. I'll do that now!\n",
      "🔧 Tool Call: archival_memory_insert\n",
      "{\n",
      "  \"content\": \"Reese loves dogs.\",\n",
      "  \"request_heartbeat\": true\n",
      "}\n",
      "🔧 Tool Return: None\n",
      "🧠 Reasoning: Information saved successfully! Riddhesh is engaged and sharing interesting details.\n",
      "🤖 Agent: I've saved that Reese loves dogs! 🐶 Anything else you'd like to share or discuss?\n"
     ]
    }
   ],
   "source": [
    "response = client.agents.messages.create(\n",
    "    agent_id=agent_state.id,\n",
    "    messages=[\n",
    "        {\n",
    "            \"role\": \"user\",\n",
    "            \"content\": \"Save the information that 'reese loves dogs' to archival\"\n",
    "        }\n",
    "    ]\n",
    ")\n",
    "\n",
    "# if we want to print the messages\n",
    "for message in response.messages:\n",
    "    print_message(message)"
   ]
  },
  {
   "cell_type": "code",
   "execution_count": 16,
   "id": "960b50f8-5f4b-48e6-a32a-5706f563cc5f",
   "metadata": {
    "height": 81
   },
   "outputs": [
    {
     "data": {
      "text/plain": [
       "['Reese loves dogs.']"
      ]
     },
     "execution_count": 16,
     "metadata": {},
     "output_type": "execute_result"
    }
   ],
   "source": [
    "passages = client.agents.passages.list(\n",
    "    agent_id=agent_state.id,\n",
    ")\n",
    "[passage.text for passage in passages]"
   ]
  },
  {
   "cell_type": "markdown",
   "id": "dbc781d4e9968e4c",
   "metadata": {},
   "source": [
    "### Explicitly creating archival memories"
   ]
  },
  {
   "cell_type": "code",
   "execution_count": 17,
   "id": "9de8059b-b374-4f01-b433-af200c2f74b0",
   "metadata": {
    "height": 81
   },
   "outputs": [
    {
     "data": {
      "text/plain": [
       "[Passage(created_by_id='user-00000000-0000-4000-8000-000000000000', last_updated_by_id='user-00000000-0000-4000-8000-000000000000', created_at=datetime.datetime(2025, 5, 13, 5, 26, 7, 450141), updated_at=datetime.datetime(2025, 5, 13, 5, 26, 7), is_deleted=False, agent_id='agent-06213195-dc6c-498d-b38f-e14a71e049b8', source_id=None, file_id=None, metadata={}, id='passage-9c0d5303-00d1-4c28-91a3-ecdfd644dbd3', text='Reese has crush on emma watson', embedding=[0.043195221573114395, 0.00036944440216757357, 0.0017203978495672345, 0.0197860449552536, -0.019586067646741867, -0.021362341940402985, 0.045500848442316055, 0.05251183733344078, -0.02260926179587841, -0.05717014521360397, -0.050817906856536865, -0.029502617195248604, -0.06013452261686325, 0.011822220869362354, -0.03524315729737282, -0.024938417598605156, 0.015010103583335876, 0.007287428714334965, -0.013339700177311897, 0.03034958243370056, -0.022891584783792496, 0.04578316956758499, 0.03216114640235901, -0.04093664512038231, 0.024350246414542198, 0.020021313801407814, -0.04585374891757965, 0.0340668186545372, -0.00603462615981698, 0.03773700073361397, -0.017503945156931877, -0.03213762119412422, 0.0172922033816576, 0.027055829763412476, -0.024750202894210815, -0.015151264145970345, -0.05942871794104576, -0.022103436291217804, 0.018350910395383835, 0.005222951527684927, 0.027055829763412476, 0.039877939969301224, -0.004058374557644129, -0.015904122963547707, -0.012304521165788174, 0.030890699476003647, -0.059334609657526016, 0.01933903619647026, 0.04048963636159897, 0.02625591866672039, 0.005922873970121145, 0.01796271838247776, -0.029879046604037285, 0.05745246633887291, -0.00998712982982397, -0.003517257748171687, -0.022362230345606804, -0.0024864894803613424, 0.03112596645951271, 0.022997455671429634, 0.08813142031431198, 0.04138365387916565, -0.050629690289497375, 0.01803329773247242, -0.05001799389719963, -0.020056603476405144, -0.000193360960111022, 0.008257909677922726, -0.015480639412999153, 0.030631903558969498, 0.010898794047534466, -0.011498727835714817, 0.011669296771287918, -0.009710690006613731, 0.0770738273859024, -0.008869607001543045, 0.00030934077221900225, 0.003484908491373062, -0.05429987236857414, 0.03042016364634037, -0.028585072606801987, 0.0026055939961224794, -0.02427966520190239, -0.06940408796072006, -0.02465609461069107, 0.02157408371567726, -0.025667747482657433, -0.02372678555548191, -0.006716903764754534, 0.021397631615400314, 0.004670071415603161, 0.027432259172201157, -0.011351685039699078, -0.012004554271697998, -0.034160926938056946, 0.0075932773761451244, 0.042301200330257416, -0.01699811965227127, 0.006164023652672768, 0.07500346750020981, -0.014186665415763855, -0.02338564768433571, -0.03670182079076767, -0.006493398919701576, 0.06752193719148636, 0.02484430931508541, -0.01457485742866993, -0.020656537264585495, -0.009310734458267689, -0.014904232695698738, -0.06686318665742874, -0.034560881555080414, -0.02357386238873005, -0.03180824592709541, 0.005270005203783512, -0.06940408796072006, 0.0009123990312218666, -0.03274931758642197, -0.08648454397916794, -0.0526529960334301, -0.00805205013602972, 0.03126712888479233, -0.005519977305084467, -0.013445571064949036, -0.02766752615571022, 0.052417729049921036, 0.013880817219614983, -0.01992720738053322, 0.019868388772010803, -0.012022199109196663, 0.013492624275386333, -0.026938196271657944, -0.014939523302018642, -0.02472667582333088, 0.025597168132662773, 0.007210966665297747, -0.010310623794794083, -0.05999336019158363, 0.04535968601703644, 0.009104874916374683, -0.014292536303400993, 0.029102662578225136, -0.043783389031887054, 0.035125523805618286, 0.02985551953315735, 0.06065211072564125, -0.049218084663152695, -0.002476196503266692, 0.02632649801671505, -0.06949818879365921, -0.029055608436465263, 0.017198096960783005, -0.051523711532354355, 0.0010278273839503527, -0.0290791355073452, -0.05641728639602661, 0.023338593542575836, -0.02754989266395569, 0.03241994231939316, -0.023856183513998985, -0.04150129109621048, -0.002905560890212655, 0.04898281395435333, -0.012351574376225471, -0.011134061962366104, 0.020103657618165016, -0.014774835668504238, 0.021891694515943527, -0.02267984300851822, 0.021374104544520378, -0.0020556547679007053, 0.03439619392156601, 0.023079799488186836, 0.03945445641875267, 0.024303192272782326, 0.02453846111893654, 0.023032745346426964, 0.0038378105964511633, -0.016445238143205643, -0.023138616234064102, -0.025714801624417305, 0.025479532778263092, -0.03093775361776352, -0.04023084044456482, 0.019244929775595665, 0.007940297946333885, 0.006687495391815901, 0.007693266496062279, -0.020221291109919548, -0.017162807285785675, 0.017986245453357697, 0.0710509642958641, -0.01074586994946003, -0.006128733512014151, 0.0026055939961224794, -0.047618258744478226, 0.018127406015992165, 0.020397743210196495, -0.0576406791806221, -0.007287428714334965, 0.012304521165788174, 0.06493399292230606, 0.033149272203445435, 0.024114977568387985, 0.0019071418792009354, -0.03587838262319565, 0.0283027496188879, 0.0031496514566242695, -0.01985662616789341, -0.02086827903985977, 0.03594896197319031, -0.028726233169436455, 0.002051243558526039, 0.02729109674692154, -0.004349518567323685, 0.024961942806839943, 0.038772180676460266, -0.01796271838247776, -0.02183287777006626, 0.02896150015294552, -0.0134220439940691, 0.050629690289497375, 0.03978383168578148, -0.0003995881415903568, -0.04648897424340248, -0.0023379765916615725, 0.008799026720225811, -0.002507075434550643, -0.02200932987034321, 0.08935482054948807, 0.009957721456885338, -0.03232583403587341, 0.020221291109919548, -0.005758186336606741, 0.013492624275386333, 0.005081790499389172, -0.018986133858561516, 0.024609042331576347, -0.051006119698286057, -0.04225414618849754, -0.00416424497961998, -0.014316062442958355, -0.005555267445743084, 0.04208945855498314, -0.036090124398469925, 0.004778882954269648, 0.006905118003487587, -0.017692159861326218, -0.021597610786557198, 0.0033143390901386738, 0.027714580297470093, 0.04354812204837799, 0.010828213766217232, 0.018833210691809654, 0.006746312137693167, 0.0011785459937527776, 0.012304521165788174, 0.0028129240963608027, 0.04968861863017082, -0.002833510050550103, -0.04199535399675369, 0.03816048428416252, 0.049923885613679886, -0.04926513507962227, 0.039807360619306564, -0.04406571015715599, 0.02926735021173954, -0.0012322166003286839, 0.008587284944951534, 0.006722785532474518, -0.03446677327156067, -0.035760749131441116, 0.028020428493618965, 0.007081569172441959, -0.003396682906895876, 0.06338122487068176, 0.04721830412745476, -0.0626283660531044, -0.0013314703246578574, 0.015198318287730217, 0.04604196548461914, -0.06244014948606491, 0.02766752615571022, -0.037054721266031265, 0.0006175787420943379, -0.03637244552373886, 0.025314845144748688, 0.010869385674595833, -0.030184894800186157, -0.004405394662171602, -0.034490302205085754, -0.027385205030441284, -0.010563536547124386, -0.0357842743396759, -0.06060505658388138, -0.055052731186151505, 0.0021071196533739567, -0.0109693743288517, 0.02479725517332554, 0.013069141656160355, 0.06121675670146942, 0.04623017832636833, 0.054535143077373505, 0.018680285662412643, -0.0071580312214791775, -0.009140164591372013, 0.012245703488588333, -0.048888709396123886, 0.02365620620548725, 0.0004992094472981989, -0.021315287798643112, 0.008281436748802662, -0.007222730200737715, 0.005281768273562193, 0.005519977305084467, -0.019609594717621803, 0.01810387894511223, 0.05307647958397865, -0.025761855766177177, 0.0005749363917857409, 0.004087782930582762, -0.008440242148935795, -0.04945335164666176, -0.05886407569050789, -0.04775942116975784, -0.022562209516763687, 0.021068256348371506, 0.006463990546762943, 0.044677410274744034, -0.03232583403587341, 0.02283276803791523, 0.011334040202200413, 0.0039230952970683575, -0.027761634439229965, -0.0023409174755215645, -0.048324063420295715, -0.023620914667844772, 0.0007837368175387383, 5.628972576232627e-05, 0.02267984300851822, -0.03543137386441231, -0.02677350863814354, -0.03693708777427673, -0.005249419249594212, -0.01725691370666027, -0.005858175456523895, 0.02882033959031105, -0.03100833296775818, 0.00814615748822689, -0.012528025545179844, 0.004011320881545544, 0.014163138344883919, 0.031290654093027115, -0.008028523065149784, 0.013504387810826302, -0.048888709396123886, 0.03818400949239731, -0.013998450711369514, 0.03529021143913269, 0.016786377876996994, -0.010892911814153194, 0.00782854575663805, -0.02190345898270607, 0.0373370461165905, -0.0034143279772251844, -0.03976030647754669, -0.028985027223825455, 0.08436713367700577, 0.023009218275547028, 0.015327715314924717, -0.026538239791989326, 0.07787373661994934, 0.009651873260736465, 0.022362230345606804, 0.030773065984249115, 0.015068920329213142, -0.023032745346426964, 0.002439436037093401, 0.03606659546494484, 0.038089901208877563, -0.005487627815455198, -0.0012954449048265815, -0.03966619819402695, -0.036090124398469925, 0.012045726180076599, -0.01584530621767044, -0.006799247581511736, -0.04982978105545044, -0.01124581415206194, -0.004414217546582222, 0.02130352519452572, -0.017115753144025803, 0.05175897851586342, -0.0020968266762793064, 0.031925879418849945, -0.03740762546658516, 0.02387971058487892, 0.027102883905172348, -0.025526586920022964, 0.02338564768433571, 0.008846079930663109, -0.029667304828763008, -0.01013417262583971, -0.03881923481822014, -0.00819909293204546, -0.002946732798591256, -0.04072490334510803, 0.014468987472355366, 0.0172922033816576, -0.04157187044620514, -0.05237067490816116, -0.0052435374818742275, 0.0378546342253685, -0.008710800670087337, 0.01581001468002796, -0.007857954129576683, 0.03180824592709541, -0.015351242385804653, -0.002482078270986676, 0.041713032871484756, -0.004346577916294336, 0.019762519747018814, -0.0046671307645738125, 0.019503723829984665, 0.0060816798359155655, 0.015610037371516228, 0.028679179027676582, -0.05491156876087189, -0.01777450367808342, -0.0034554998856037855, -0.017562761902809143, 0.007069806102663279, 0.03672534599900246, 0.013398516923189163, 0.024703148752450943, 0.0042554112151265144, 0.028608599677681923, 0.059475772082805634, 0.025456005707383156, -0.06394586712121964, 0.002833510050550103, -0.022926874458789825, -0.024867836385965347, 0.004314228426665068, -0.023703258484601974, 0.04578316956758499, 0.003746644128113985, 0.002593830693513155, 0.008028523065149784, -0.012233939953148365, -0.018527360633015633, -0.023903237655758858, 0.0023423878010362387, -0.001002094941213727, -0.0035672523081302643, -0.009563647210597992, -0.053264692425727844, 0.011569308117032051, 0.010151817463338375, -0.015739435330033302, -0.03279637172818184, -0.003908391110599041, -0.041030753403902054, -0.03966619819402695, 0.03331395983695984, 0.00021927720808889717, 0.01956254057586193, 0.027502838522195816, -0.012704476714134216, -0.025056051090359688, -0.011698705144226551, 3.7289071769919246e-05, -0.005655256565660238, 0.042301200330257416, -0.006487517151981592, -0.017080463469028473, -0.0035819564945995808, -0.03274931758642197, 0.040324948728084564, 0.013057378120720387, -0.023938527330756187, 0.029290875419974327, -0.04535968601703644, 0.03879570588469505, -0.06319300830364227, -0.012480971403419971, 0.027949847280979156, -0.029667304828763008, -0.00903429463505745, 0.04152481630444527, 0.00580229889601469, 0.0007932945736683905, -0.024938417598605156, -0.010892911814153194, -0.03425503149628639, 0.00355548900552094, 0.039030976593494415, 0.004793587140738964, -0.018056824803352356, -0.08243793249130249, 0.039548564702272415, 0.0027967493515461683, -0.020068367943167686, 0.004364222753793001, -0.062346041202545166, 0.015680618584156036, -0.004408335778862238, 0.008657865226268768, -0.02997315302491188, 0.012116306461393833, 0.02402087114751339, 0.036537133157253265, -0.014033741317689419, -0.006169905420392752, -0.014739545062184334, 0.038772180676460266, -0.004020143300294876, -0.016092337667942047, 0.00562290707603097, -0.011092890053987503, -0.001588059589266777, 0.00733448239043355, 0.009357787668704987, 0.05942871794104576, -0.01152813620865345, -0.010934083722531796, 0.00907546654343605, 0.004755356349050999, 0.02870270609855652, -0.05194719135761261, 0.021538792178034782, -0.031855300068855286, -0.015186554752290249, -0.011945736594498158, 0.008875488303601742, 0.031855300068855286, -0.00511413998901844, 0.0011278163874521852, 0.014845415949821472, -0.013974923640489578, 0.009493066929280758, 0.008269673213362694, 0.01770392246544361, 0.031855300068855286, -0.018762629479169846, 0.0373370461165905, -0.005861116107553244, -0.04879460111260414, -0.0085167046636343, 0.02183287777006626, -0.020621247589588165, 0.02260926179587841, 0.05279415845870972, -0.0318317711353302, 0.020091895014047623, 0.022268123924732208, -0.00292761716991663, 0.0014851298183202744, -0.01766863279044628, -0.01732749491930008, 0.014915996231138706, 0.0061228517442941666, 0.02446787990629673, -0.011686941608786583, -0.0268440879881382, 0.02536189928650856, 4.755907502840273e-05, -0.02063301019370556, -0.017056936398148537, -0.01655110903084278, -0.02360915206372738, -0.009334261529147625, -0.025903016328811646, -0.05491156876087189, -0.02562069334089756, 0.0181509330868721, 0.012763293460011482, 0.0011234050616621971, -0.012386864982545376, 0.006987461820244789, 0.015363005921244621, 0.006546334363520145, 0.00842259731143713, 0.013457334600389004, -0.0009160750778391957, -0.012657422572374344, -0.030373109504580498, -0.044865623116493225, 0.005443515256047249, 0.02573832869529724, 0.051335494965314865, 0.0012947096256539226, 0.0053435261361300945, 0.0066580865532159805, -0.011316394433379173, -0.03674887493252754, -0.04305405914783478, 0.0022526918910443783, -0.008428478613495827, -0.002018894301727414, 0.010222397744655609, -0.02785574086010456, -0.02018600143492222, -0.025973595678806305, 0.0076991477981209755, 0.010763514786958694, 0.005096494685858488, -0.046277232468128204, 0.05067674443125725, 0.01799800805747509, -0.009793033823370934, -0.014657201245427132, -0.012975034303963184, 0.03124360181391239, -0.012939744628965855, 0.01268094964325428, 0.015798252075910568, -0.03274931758642197, 0.016892248764634132, 0.005564090330153704, -0.004420099314302206, -0.01595117524266243, 0.0015174790751188993, 0.007075687404721975, -0.0002635737764649093, 0.04623017832636833, -0.024891363456845284, 0.013892579823732376, -0.002243869239464402, 0.0004010585544165224, 0.022138725966215134, -0.025220738723874092, -0.005222951527684927, -0.03100833296775818, 0.0026438250206410885, 0.02008013054728508, -0.01620997115969658, -0.03818400949239731, -0.006834537722170353, 0.02997315302491188, 0.006322829518467188, -0.027455784380435944, 0.024750202894210815, 0.003405505558475852, 0.011692823842167854, 0.020703591406345367, -0.01796271838247776, 0.00680512934923172, 0.002662940649315715, -0.012104542925953865, -0.01643347553908825, -0.001354261883534491, 0.04340695962309837, -0.013257356360554695, 0.0019262573914602399, -0.0383722260594368, 0.011163470335304737, 0.017986245453357697, 0.011498727835714817, -0.03272578865289688, -0.0022144608665257692, -0.011922210454940796, 0.0035113762132823467, -0.005349407903850079, -0.022174017503857613, -0.015457113273441792, 0.0132926469668746, 0.019833099097013474, 0.017727449536323547, -0.00948130339384079, 0.029573198407888412, -0.00996360369026661, 0.023962054401636124, 0.026538239791989326, 0.013280883431434631, -0.0070874509401619434, -0.024867836385965347, -0.009175455197691917, 0.004878872074186802, 0.05749952048063278, 0.00929897092282772, -0.06592211872339249, -0.0002576920669525862, -0.03811343014240265, 0.011669296771287918, 0.004043670371174812, -0.02075064554810524, -0.021632900461554527, 0.012128069996833801, 0.031737662851810455, -0.03383155167102814, 0.03298458456993103, 0.02108002081513405, 0.02644413337111473, 0.003134947270154953, -0.05373523011803627, -0.025526586920022964, -0.009269562549889088, -0.015068920329213142, -0.03710177540779114, 0.013821999542415142, 0.006969816982746124, -0.011586952954530716, -0.012198650278151035, -0.027173463255167007, -0.05335880070924759, -0.016798140481114388, -0.002201227005571127, 0.0219387486577034, 0.027502838522195816, -0.011304630897939205, -0.04860638454556465, 0.0001486048859078437, -0.017315730452537537, 0.039172135293483734, 0.0065580978989601135, 0.014657201245427132, 0.030467215925455093, 0.016786377876996994, 0.019362563267350197, 0.001431459211744368, 0.005834648385643959, -0.03684298321604729, 0.007140386383980513, 0.012845637276768684, 0.0181509330868721, 0.030514270067214966, -0.002202697331085801, -0.039477985352277756, 0.05538210645318031, 0.034372664988040924, 0.008669628761708736, 0.019350800663232803, 0.04503031075000763, -0.007534460164606571, -0.017092226073145866, -0.009698926471173763, 0.05604085698723793, 0.029879046604037285, -0.012633896432816982, 0.022279886528849602, -0.03136123716831207, -0.01699811965227127, -0.005196483805775642, -0.014915996231138706, 0.03150239586830139, -0.0052788276225328445, 0.06662791967391968, -0.01770392246544361, -0.02759694680571556, -0.00942836795002222, 0.007363890763372183, -0.001695400569587946, 0.055946748703718185, -0.03246699646115303, -0.04811232164502144, 0.00495533412322402, -0.039619144052267075, 0.0004249529738444835, -0.02599712274968624, 0.020844751968979836, 0.018844973295927048, -0.03658418729901314, -0.028773287311196327, 0.015198318287730217, -0.0065228077583014965, 0.02040950581431389, -0.02372678555548191, -0.001963017974048853, -0.009451895020902157, 0.011092890053987503, -0.010851739905774593, -0.020585957914590836, 0.00875785481184721, 0.01717456988990307, 0.0108399773016572, -0.029549671337008476, 0.033525701612234116, -0.022515155375003815, 0.016868721693754196, 0.0356195867061615, -0.0035113762132823467, 0.014010214246809483, 0.017009882256388664, -0.02985551953315735, -0.0009388666949234903, 0.003009960986673832, 0.012233939953148365, 0.00472300685942173, -0.021879931911826134, 0.00022644552518613636, 0.0339021310210228, -0.017233386635780334, -0.03881923481822014, 0.04540674015879631, -0.02257397212088108, -0.01699811965227127, -0.03312574699521065, 0.037501733750104904, 0.015551220625638962, -0.025503059849143028, 0.029032081365585327, 0.013586731627583504, 0.0035054944455623627, 0.02398558147251606, 0.03023194894194603, 0.003473144955933094, 0.014269009232521057, -0.016821667551994324, -0.01045178435742855, -0.005087672267109156, -0.004581845831125975, 0.008004996925592422, -0.028773287311196327, -0.016445238143205643, 0.015798252075910568, 0.0268440879881382, 0.005184720270335674, 0.014739545062184334, 0.05999336019158363, -0.008657865226268768, 0.00903429463505745, 0.06244014948606491, -0.0060875616036355495, 0.03632539138197899, 0.005793476477265358, 0.0258089080452919, 0.00948130339384079, 0.024185558781027794, 0.026561766862869263, 0.032772842794656754, 0.008028523065149784, -0.004811232443898916, 0.014116085134446621, -0.015857068821787834, 0.006199313793331385, 0.035901907831430435, -0.004458330105990171, 0.02126823551952839, 0.016339369118213654, 8.311350029543974e-06, -0.007405062671750784, 0.028467437252402306, -0.0039583854377269745, -0.02780868671834469, 0.011728113517165184, -0.03597249090671539, -0.025150157511234283, -0.03959561884403229, 0.015492402948439121, -0.040889590978622437, -0.024703148752450943, 0.007675621192902327, -0.00870491936802864, 0.007169794756919146, -0.008957832120358944, -0.0636635422706604, 0.009569529443979263, -0.03587838262319565, 0.021844642236828804, -0.009898904711008072, -0.006140497047454119, 0.007616803981363773, -0.011186997406184673, -0.023938527330756187, -0.0050112102180719376, 0.012622132897377014, -0.02357386238873005, -0.029996680095791817, 0.011375212110579014, -0.0011109064798802137, 0.00801087822765112, 0.004575964063405991, -0.0042554112151265144, 0.009316615760326385, -0.01495128683745861, -0.008987240493297577, 0.05270005017518997, -0.02353857085108757, -0.0035996015649288893, 0.006799247581511736, -0.03649007901549339, -0.004673012066632509, -0.03241994231939316, -0.03418445214629173, 0.004370104521512985, -0.014727781526744366, -0.011833984404802322, -0.014598384499549866, 0.0015263017266988754, -0.004308346658945084, 0.006281657610088587, -0.0219387486577034, 0.0023820893839001656, -0.03197293356060982, -0.011686941608786583, -0.005367053207010031, 0.03317280113697052, -0.005678783170878887, -0.032302308827638626, -0.0014858649810776114, -0.011728113517165184, -0.00154541723895818, 0.03783110901713371, 0.02477372996509075, -0.009469539858400822, -0.006858064793050289, -0.056511394679546356, -0.0034584407694637775, -0.0007991762831807137, 0.007516815327107906, 0.03119654767215252, 0.02350328117609024, -0.02689114212989807, 0.03394918516278267, 0.02376207709312439, -0.010610590688884258, 0.00532588129863143, 0.001965958857908845, 0.027432259172201157, -0.01495128683745861, 0.02242104895412922, 0.018786156550049782, 0.029690831899642944, 0.032443467527627945, 0.021432923153042793, -0.04225414618849754, 0.022773951292037964, 0.03470204398036003, 0.0021159423049539328, -0.01158107165247202, 0.00624636746942997, -0.029055608436465263, 0.014939523302018642, 0.011375212110579014, 0.01415137480944395, 0.002943791914731264, 0.008022641763091087, -0.0170334093272686, -0.011886919848620892, 0.0014520451659336686, -0.00363489193841815, 0.014163138344883919, -0.029314402490854263, 0.030796591192483902, 0.004608313553035259, -0.05034736916422844, 0.006481635849922895, -0.021315287798643112, 0.012339810840785503, 0.004117191303521395, -0.016445238143205643, 0.006993343587964773, -0.014998340047895908, -0.0065169259905815125, 0.01625702530145645, -0.01629231497645378, 0.020585957914590836, 0.034560881555080414, -0.00348196760751307, -0.016986355185508728, 0.0025026642251759768, -0.031596504151821136, -0.008057931438088417, -0.00779913691803813, -0.011928091756999493, -0.011445792391896248, -0.0057081920094788074, -0.023185670375823975, -0.01620997115969658, 0.005331763066351414, 0.0323493629693985, 0.024609042331576347, -0.007710911333560944, 0.039619144052267075, -0.026938196271657944, 0.0053435261361300945, 0.02205638214945793, 0.003176119178533554, -0.01435135304927826, 0.0035378437023609877, 0.05580559000372887, 0.006211077328771353, -0.005322940181940794, 0.021550556644797325, -0.019068477675318718, -0.0029143833089619875, -0.007581513840705156, -0.021291760727763176, -0.025479532778263092, -0.00033305137185379863, 0.028208643198013306, -0.024561988189816475, 0.004278938286006451, -0.0055464450269937515, 0.03133770823478699, -0.02439730055630207, 0.00742858974263072, -0.02818511612713337, 0.05622907355427742, 0.004770060535520315, -0.0265852939337492, -0.04084254056215286, 0.0016674625221639872, 0.006540452595800161, 0.0071345046162605286, -0.011645769700407982, -0.003552548121660948, -0.008710800670087337, 0.022468101233243942, 0.0024938415735960007, 0.010457666590809822, -0.018386200070381165, -0.02773810736835003, 0.0084755327552557, -0.017574526369571686, 0.008022641763091087, 0.021891694515943527, -0.016927538439631462, 0.016504056751728058, 0.026797033846378326, 0.0030614258721470833, -0.006875709630548954, 0.0357842743396759, -0.011575189419090748, -0.011892801150679588, -0.0039289770647883415, 0.03284342586994171, 0.0038789825048297644, -0.017056936398148537, 0.019327273592352867, -0.0028849749360233545, -0.06441640108823776, -0.0007955001783557236, 0.0028746819589287043, 0.015798252075910568, 0.029314402490854263, -0.051335494965314865, 9.548576053930447e-05, -0.013751419261097908, -0.03432561457157135, -0.01111641712486744, -0.02863212488591671, 0.03472556918859482, 0.016645217314362526, -0.01046943012624979, -0.01639818586409092, 0.02729109674692154, 0.010216516442596912, -0.0005319264018908143, 0.004778882954269648, 0.0024497290141880512, -0.005684664938598871, -0.04206593334674835, -0.022962164133787155, 0.002864388981834054, -0.0008771088323555887, -0.01050471980124712, 0.008493177592754364, -0.02405616082251072, -0.0005922138807363808, -0.029690831899642944, -0.020844751968979836, -0.007552105467766523, -0.0024203204084187746, -0.0022968046832829714, -0.019997786730527878, -0.011798694729804993, 0.018209749832749367, -0.015186554752290249, 0.006528689060360193, -0.002040950581431389, 0.012833873741328716, 0.013022088445723057, -0.005364112090319395, -0.028349803760647774, 0.03171413764357567, -0.008381425403058529, -0.003973089624196291, 0.009710690006613731, 0.008581403642892838, 0.0181509330868721, -0.004461271222680807, -0.02149173989892006, -0.022068146616220474, 0.0052435374818742275, 0.021703479811549187, -0.00464948546141386, 0.0025673629716038704, 0.002123294398188591, 0.006493398919701576, 0.012057488784193993, -0.024867836385965347, -0.014998340047895908, -0.04206593334674835, 0.00948130339384079, -0.0005054587963968515, 0.0045053837820887566, 0.023597389459609985, 0.013951397500932217, -0.03369038924574852, 0.0030437808018177748, -0.013410280458629131, -0.025832435116171837, 0.007987351156771183, -0.02324448712170124, -0.06582801043987274, 0.004958274774253368, -0.03178471699357033, -0.0009212215663865209, -0.04474798962473869, 0.02030363492667675, 0.0219387486577034, -0.004784764721989632, 0.0021512324456125498, -0.012222177349030972, 0.0017968600150197744, -0.0076991477981209755, 0.034231506288051605, -0.02799690142273903, 0.06921587139368057, 0.007540341932326555, 0.027879267930984497, -0.008710800670087337, -0.015327715314924717, -0.018586179241538048, 0.019997786730527878, -0.01138109341263771, -0.020574193447828293, 0.024867836385965347, 0.0035731340758502483, 0.005296472925692797, 0.03119654767215252, 0.0037231172900646925, 0.00948130339384079, 0.011181115172803402, -0.03759583830833435, 0.004487738478928804, -0.030255476012825966, 0.028985027223825455, 0.01949196122586727, 0.00495533412322402, 0.012328047305345535, -0.013963161036372185, -0.007258020341396332, -0.011392856948077679, -0.03470204398036003, 0.07373301684856415, 0.005170016083866358, -0.003246699459850788, 0.0026144166477024555, -0.039619144052267075, -0.025385426357388496, 0.01669226959347725, 0.0340668186545372, 0.009122519753873348, -0.018268566578626633, 0.033078692853450775, -0.016762850806117058, 0.04521852359175682, 0.010192989371716976, 0.0026408841367810965, 0.02171524427831173, 0.026161810383200645, -0.01699811965227127, -0.015280662104487419, 0.004273056518286467, -0.05782889574766159, 0.001241039135493338, -0.02799690142273903, -0.004614195320755243, -0.014069030992686749, -0.0011359037598595023, -0.004814173094928265, -0.009363669902086258, 0.009993012063205242, -0.001743924687616527, 0.004864167422056198, -0.0008557876572012901, -0.0013050026027485728, 0.028867393732070923, -0.023962054401636124, 0.007152149919420481, -0.039877939969301224, -0.0159158855676651, -0.0026085348799824715, -0.01004006527364254, -0.0194449070841074, -0.016892248764634132, 0.004384808707982302, -0.042301200330257416, 0.007234493736177683, -0.008452005684375763, -0.02785574086010456, -0.006681613624095917, -0.04495973140001297, 0.022150490432977676, -0.00032349361572414637, 0.012375101447105408, 0.013657311908900738, -0.0016424653586000204, 0.006028744392096996, 0.010716461576521397, -0.032114092260599136, -0.012480971403419971, 0.04472446069121361, 0.0003701796231325716, -0.0009763625566847622, 0.0010329738724976778, -0.041148386895656586, -0.003046721685677767, -0.009269562549889088, 0.0191861130297184, 0.033149272203445435, 0.005122962407767773, -0.005861116107553244, -0.008487296290695667, 0.04034847766160965, -0.04373633489012718, 0.04613607004284859, -0.008969595655798912, 0.03246699646115303, 0.048324063420295715, 0.013269119895994663, -0.007234493736177683, -0.004064256325364113, -0.0021615254227072, 0.008587284944951534, 0.022668080404400826, 0.02402087114751339, 0.02135057933628559, 0.03364333510398865, 0.0017145161982625723, 0.013657311908900738, 0.015610037371516228, -0.009275443851947784, 0.007181558292359114, -0.028538018465042114, 0.01106348168104887, 0.01106348168104887, -0.027173463255167007, 0.0325140506029129, 0.012622132897377014, 0.004340696148574352, 0.006834537722170353, 0.006428700406104326, -0.028490964323282242, -0.014586620964109898, 0.005249419249594212, -0.0033055166713893414, 0.006099325139075518, -0.02856154553592205, -0.020162474364042282, -0.0084755327552557, -0.010334150865674019, 0.00044517131755128503, 0.0012998561142012477, -0.024373773485422134, -0.05801710858941078, 0.02283276803791523, -0.005258241668343544, -0.04470093548297882, -0.006999225355684757, -0.004634781274944544, -0.03434913977980614, -0.007352127693593502, -0.029314402490854263, -0.017268678173422813, 0.02142115868628025, -0.017645105719566345, -0.010951729491353035, 0.028467437252402306, 0.024350246414542198, 0.02298569120466709, 0.00827555451542139, -9.116638102568686e-05, -0.018903790041804314, 0.01889202743768692, 0.021138837561011314, 0.009357787668704987, -0.014821888878941536, -0.0029246762860566378, 0.045877277851104736, 0.007675621192902327, 0.028349803760647774, 0.004967097193002701, -0.03246699646115303, 0.039172135293483734, 0.020385978743433952, 0.004834759049117565, 0.02722051739692688, -0.010392967611551285, -0.009916549548506737, 0.008375544100999832, 0.05359406769275665, -0.0035437254700809717, 0.011134061962366104, 0.002433554269373417, -0.0060169813223183155, -0.018692048266530037, -0.03394918516278267, 0.015363005921244621, -0.06051095202565193, -0.011969263665378094, -0.0036495961248874664, 0.007475643418729305, -0.011281104758381844, -0.03863101825118065, 0.002551188226789236, -0.012728002853691578, 0.016892248764634132, 0.03477262333035469, -0.01825680397450924, -0.00509355403482914, -0.04016026109457016, -0.04540674015879631, -0.0007888833060860634, 0.023032745346426964, -0.0030084906611591578, -0.029549671337008476, -0.05909934267401695, -0.011981027200818062, -0.004387749824672937, 0.01662169024348259, 0.0026879378128796816, 0.020350689068436623, 0.037384096533060074, 0.010210635140538216, -0.017080463469028473, 0.03331395983695984, 0.03637244552373886, -0.010581182315945625, 0.014127848669886589, 0.005319999530911446, -0.008299081586301327, -0.01606881059706211, -0.020350689068436623, -0.019915442913770676, -0.005999336019158363, -0.010857622139155865, 0.027973374351859093, -0.01422195602208376, 0.00996360369026661, -0.032443467527627945, -0.0076638576574623585, -0.035078469663858414, 0.015280662104487419, -0.012504498474299908, -0.0110987713560462, -0.0009197511826641858, -0.03938387706875801, -0.003934858832508326, -0.004675953183323145, 0.0003749585011973977, 0.019774282351136208, -0.00571701442822814, -0.019327273592352867, 0.012092779390513897, 0.017645105719566345, 0.017821557819843292, 0.046465445309877396, 0.02379736676812172, 0.052041299641132355, -0.01833914779126644, -0.00823438260704279, -0.03432561457157135, 0.027385205030441284, -0.0036466552410274744, -0.027432259172201157, -0.020997676998376846, -0.004367163870483637, 0.002154173329472542, -0.0017939191311597824, 0.040630798786878586, -0.018527360633015633, 0.017339257523417473, 0.05034736916422844, 0.03514905273914337, -0.03178471699357033, -0.02179758809506893, -0.014504277147352695, 0.017539234831929207, -0.001196191180497408, -0.03187882527709007, -0.030914226546883583, -0.02696172147989273, -0.002270336961373687, -0.0221975427120924, 0.008022641763091087, -0.013986687175929546, 0.03178471699357033, -0.01226923055946827, -0.016186444088816643, 0.018786156550049782, -0.018421491608023643, 0.05622907355427742, 0.027338150888681412, -0.02517368458211422, -0.04157187044620514, -0.038466330617666245, 0.01822151243686676, 0.017798030748963356, 0.0159158855676651, 0.01581001468002796, -0.016492292284965515, -0.012657422572374344, -0.023173905909061432, 0.05500567704439163, -0.015821779146790504, 0.028514491394162178, 0.017198096960783005, -0.022115198895335197, -0.014233718626201153, -0.033149272203445435, 0.022044619545340538, -0.005143548361957073, -0.01277505699545145, 0.012692713178694248, -0.0003587838145904243, -0.030067261308431625, -0.012739766389131546, -0.049218084663152695, 4.9167352699441835e-05, 0.015257135033607483, -0.01415137480944395, -0.020480087026953697, -0.0023100385442376137, -0.028349803760647774, 0.021668190136551857, -1.7932297851075418e-05, 0.017127515748143196, -0.033408068120479584, -0.024256139993667603, 0.004290701821446419, 0.007457998115569353, 0.015245371498167515, 0.0027982196770608425, 0.018009772524237633, 0.0021894637029618025, -0.03439619392156601, 0.007375654298812151, -0.03347864747047424, 0.03719588369131088, -0.026914669200778008, -0.03336101397871971, -0.027267571538686752, 0.026608821004629135, 0.012351574376225471, 0.00856964010745287, 0.011557544581592083, -0.022668080404400826, 0.003896627575159073, -0.03976030647754669, -0.01655110903084278, 0.005552326794713736, -0.01296327169984579, 0.001813034643419087, 0.004523029085248709, -0.003823106409981847, -0.027102883905172348, 0.016633452847599983, -0.013551441952586174, 0.018209749832749367, 0.022973928600549698, -0.02863212488591671, 0.010975255630910397, 0.034231506288051605, 0.020797697827219963, 0.012516262009739876, -0.0035319621674716473, 0.036278337240219116, -0.059663984924554825, 0.0037260581739246845, -0.0110987713560462, 0.008969595655798912, -0.038136955350637436, 0.02264455333352089, -0.00866374745965004, -0.021091783419251442, 0.017268678173422813, -0.03171413764357567, 0.00962834618985653, 0.012375101447105408, 0.013151485472917557, 0.014810125343501568, -0.0015218904009088874, -0.011281104758381844, -0.013163249008357525, 0.019068477675318718, 0.013351463712751865, 0.004278938286006451, 0.036607712507247925, 0.009546002373099327, 0.04686540365219116, -0.017268678173422813, -0.003708413103595376, -0.0032966940198093653, -0.004402454011142254, -0.012504498474299908, 0.016421712934970856, -0.01581001468002796, 0.011139943264424801, 0.01559827383607626, 0.011810457333922386, 0.025855962187051773, 0.01402197778224945, 0.011539899744093418, -0.023103326559066772, -0.008622575551271439, 0.033525701612234116, -0.04764178767800331, -0.004311287775635719, -0.041336603462696075, 0.008463769219815731, -0.010069473646581173, 0.00043120229383930564, 0.002239458030089736, -0.018621468916535378, 0.004581845831125975, -0.03898392245173454, -0.019033188000321388, -0.00011781784269260243, -0.012233939953148365, -0.025079578161239624, -0.029102662578225136, -0.027714580297470093, -0.038842760026454926, -0.009457777254283428, -0.029549671337008476, -0.017080463469028473, -0.00015145383076742291, 0.010645880363881588, -0.0016718738479539752, -0.02882033959031105, 0.009834205731749535, 0.04157187044620514, 0.0, 0.0, 0.0, 0.0, 0.0, 0.0, 0.0, 0.0, 0.0, 0.0, 0.0, 0.0, 0.0, 0.0, 0.0, 0.0, 0.0, 0.0, 0.0, 0.0, 0.0, 0.0, 0.0, 0.0, 0.0, 0.0, 0.0, 0.0, 0.0, 0.0, 0.0, 0.0, 0.0, 0.0, 0.0, 0.0, 0.0, 0.0, 0.0, 0.0, 0.0, 0.0, 0.0, 0.0, 0.0, 0.0, 0.0, 0.0, 0.0, 0.0, 0.0, 0.0, 0.0, 0.0, 0.0, 0.0, 0.0, 0.0, 0.0, 0.0, 0.0, 0.0, 0.0, 0.0, 0.0, 0.0, 0.0, 0.0, 0.0, 0.0, 0.0, 0.0, 0.0, 0.0, 0.0, 0.0, 0.0, 0.0, 0.0, 0.0, 0.0, 0.0, 0.0, 0.0, 0.0, 0.0, 0.0, 0.0, 0.0, 0.0, 0.0, 0.0, 0.0, 0.0, 0.0, 0.0, 0.0, 0.0, 0.0, 0.0, 0.0, 0.0, 0.0, 0.0, 0.0, 0.0, 0.0, 0.0, 0.0, 0.0, 0.0, 0.0, 0.0, 0.0, 0.0, 0.0, 0.0, 0.0, 0.0, 0.0, 0.0, 0.0, 0.0, 0.0, 0.0, 0.0, 0.0, 0.0, 0.0, 0.0, 0.0, 0.0, 0.0, 0.0, 0.0, 0.0, 0.0, 0.0, 0.0, 0.0, 0.0, 0.0, 0.0, 0.0, 0.0, 0.0, 0.0, 0.0, 0.0, 0.0, 0.0, 0.0, 0.0, 0.0, 0.0, 0.0, 0.0, 0.0, 0.0, 0.0, 0.0, 0.0, 0.0, 0.0, 0.0, 0.0, 0.0, 0.0, 0.0, 0.0, 0.0, 0.0, 0.0, 0.0, 0.0, 0.0, 0.0, 0.0, 0.0, 0.0, 0.0, 0.0, 0.0, 0.0, 0.0, 0.0, 0.0, 0.0, 0.0, 0.0, 0.0, 0.0, 0.0, 0.0, 0.0, 0.0, 0.0, 0.0, 0.0, 0.0, 0.0, 0.0, 0.0, 0.0, 0.0, 0.0, 0.0, 0.0, 0.0, 0.0, 0.0, 0.0, 0.0, 0.0, 0.0, 0.0, 0.0, 0.0, 0.0, 0.0, 0.0, 0.0, 0.0, 0.0, 0.0, 0.0, 0.0, 0.0, 0.0, 0.0, 0.0, 0.0, 0.0, 0.0, 0.0, 0.0, 0.0, 0.0, 0.0, 0.0, 0.0, 0.0, 0.0, 0.0, 0.0, 0.0, 0.0, 0.0, 0.0, 0.0, 0.0, 0.0, 0.0, 0.0, 0.0, 0.0, 0.0, 0.0, 0.0, 0.0, 0.0, 0.0, 0.0, 0.0, 0.0, 0.0, 0.0, 0.0, 0.0, 0.0, 0.0, 0.0, 0.0, 0.0, 0.0, 0.0, 0.0, 0.0, 0.0, 0.0, 0.0, 0.0, 0.0, 0.0, 0.0, 0.0, 0.0, 0.0, 0.0, 0.0, 0.0, 0.0, 0.0, 0.0, 0.0, 0.0, 0.0, 0.0, 0.0, 0.0, 0.0, 0.0, 0.0, 0.0, 0.0, 0.0, 0.0, 0.0, 0.0, 0.0, 0.0, 0.0, 0.0, 0.0, 0.0, 0.0, 0.0, 0.0, 0.0, 0.0, 0.0, 0.0, 0.0, 0.0, 0.0, 0.0, 0.0, 0.0, 0.0, 0.0, 0.0, 0.0, 0.0, 0.0, 0.0, 0.0, 0.0, 0.0, 0.0, 0.0, 0.0, 0.0, 0.0, 0.0, 0.0, 0.0, 0.0, 0.0, 0.0, 0.0, 0.0, 0.0, 0.0, 0.0, 0.0, 0.0, 0.0, 0.0, 0.0, 0.0, 0.0, 0.0, 0.0, 0.0, 0.0, 0.0, 0.0, 0.0, 0.0, 0.0, 0.0, 0.0, 0.0, 0.0, 0.0, 0.0, 0.0, 0.0, 0.0, 0.0, 0.0, 0.0, 0.0, 0.0, 0.0, 0.0, 0.0, 0.0, 0.0, 0.0, 0.0, 0.0, 0.0, 0.0, 0.0, 0.0, 0.0, 0.0, 0.0, 0.0, 0.0, 0.0, 0.0, 0.0, 0.0, 0.0, 0.0, 0.0, 0.0, 0.0, 0.0, 0.0, 0.0, 0.0, 0.0, 0.0, 0.0, 0.0, 0.0, 0.0, 0.0, 0.0, 0.0, 0.0, 0.0, 0.0, 0.0, 0.0, 0.0, 0.0, 0.0, 0.0, 0.0, 0.0, 0.0, 0.0, 0.0, 0.0, 0.0, 0.0, 0.0, 0.0, 0.0, 0.0, 0.0, 0.0, 0.0, 0.0, 0.0, 0.0, 0.0, 0.0, 0.0, 0.0, 0.0, 0.0, 0.0, 0.0, 0.0, 0.0, 0.0, 0.0, 0.0, 0.0, 0.0, 0.0, 0.0, 0.0, 0.0, 0.0, 0.0, 0.0, 0.0, 0.0, 0.0, 0.0, 0.0, 0.0, 0.0, 0.0, 0.0, 0.0, 0.0, 0.0, 0.0, 0.0, 0.0, 0.0, 0.0, 0.0, 0.0, 0.0, 0.0, 0.0, 0.0, 0.0, 0.0, 0.0, 0.0, 0.0, 0.0, 0.0, 0.0, 0.0, 0.0, 0.0, 0.0, 0.0, 0.0, 0.0, 0.0, 0.0, 0.0, 0.0, 0.0, 0.0, 0.0, 0.0, 0.0, 0.0, 0.0, 0.0, 0.0, 0.0, 0.0, 0.0, 0.0, 0.0, 0.0, 0.0, 0.0, 0.0, 0.0, 0.0, 0.0, 0.0, 0.0, 0.0, 0.0, 0.0, 0.0, 0.0, 0.0, 0.0, 0.0, 0.0, 0.0, 0.0, 0.0, 0.0, 0.0, 0.0, 0.0, 0.0, 0.0, 0.0, 0.0, 0.0, 0.0, 0.0, 0.0, 0.0, 0.0, 0.0, 0.0, 0.0, 0.0, 0.0, 0.0, 0.0, 0.0, 0.0, 0.0, 0.0, 0.0, 0.0, 0.0, 0.0, 0.0, 0.0, 0.0, 0.0, 0.0, 0.0, 0.0, 0.0, 0.0, 0.0, 0.0, 0.0, 0.0, 0.0, 0.0, 0.0, 0.0, 0.0, 0.0, 0.0, 0.0, 0.0, 0.0, 0.0, 0.0, 0.0, 0.0, 0.0, 0.0, 0.0, 0.0, 0.0, 0.0, 0.0, 0.0, 0.0, 0.0, 0.0, 0.0, 0.0, 0.0, 0.0, 0.0, 0.0, 0.0, 0.0, 0.0, 0.0, 0.0, 0.0, 0.0, 0.0, 0.0, 0.0, 0.0, 0.0, 0.0, 0.0, 0.0, 0.0, 0.0, 0.0, 0.0, 0.0, 0.0, 0.0, 0.0, 0.0, 0.0, 0.0, 0.0, 0.0, 0.0, 0.0, 0.0, 0.0, 0.0, 0.0, 0.0, 0.0, 0.0, 0.0, 0.0, 0.0, 0.0, 0.0, 0.0, 0.0, 0.0, 0.0, 0.0, 0.0, 0.0, 0.0, 0.0, 0.0, 0.0, 0.0, 0.0, 0.0, 0.0, 0.0, 0.0, 0.0, 0.0, 0.0, 0.0, 0.0, 0.0, 0.0, 0.0, 0.0, 0.0, 0.0, 0.0, 0.0, 0.0, 0.0, 0.0, 0.0, 0.0, 0.0, 0.0, 0.0, 0.0, 0.0, 0.0, 0.0, 0.0, 0.0, 0.0, 0.0, 0.0, 0.0, 0.0, 0.0, 0.0, 0.0, 0.0, 0.0, 0.0, 0.0, 0.0, 0.0, 0.0, 0.0, 0.0, 0.0, 0.0, 0.0, 0.0, 0.0, 0.0, 0.0, 0.0, 0.0, 0.0, 0.0, 0.0, 0.0, 0.0, 0.0, 0.0, 0.0, 0.0, 0.0, 0.0, 0.0, 0.0, 0.0, 0.0, 0.0, 0.0, 0.0, 0.0, 0.0, 0.0, 0.0, 0.0, 0.0, 0.0, 0.0, 0.0, 0.0, 0.0, 0.0, 0.0, 0.0, 0.0, 0.0, 0.0, 0.0, 0.0, 0.0, 0.0, 0.0, 0.0, 0.0, 0.0, 0.0, 0.0, 0.0, 0.0, 0.0, 0.0, 0.0, 0.0, 0.0, 0.0, 0.0, 0.0, 0.0, 0.0, 0.0, 0.0, 0.0, 0.0, 0.0, 0.0, 0.0, 0.0, 0.0, 0.0, 0.0, 0.0, 0.0, 0.0, 0.0, 0.0, 0.0, 0.0, 0.0, 0.0, 0.0, 0.0, 0.0, 0.0, 0.0, 0.0, 0.0, 0.0, 0.0, 0.0, 0.0, 0.0, 0.0, 0.0, 0.0, 0.0, 0.0, 0.0, 0.0, 0.0, 0.0, 0.0, 0.0, 0.0, 0.0, 0.0, 0.0, 0.0, 0.0, 0.0, 0.0, 0.0, 0.0, 0.0, 0.0, 0.0, 0.0, 0.0, 0.0, 0.0, 0.0, 0.0, 0.0, 0.0, 0.0, 0.0, 0.0, 0.0, 0.0, 0.0, 0.0, 0.0, 0.0, 0.0, 0.0, 0.0, 0.0, 0.0, 0.0, 0.0, 0.0, 0.0, 0.0, 0.0, 0.0, 0.0, 0.0, 0.0, 0.0, 0.0, 0.0, 0.0, 0.0, 0.0, 0.0, 0.0, 0.0, 0.0, 0.0, 0.0, 0.0, 0.0, 0.0, 0.0, 0.0, 0.0, 0.0, 0.0, 0.0, 0.0, 0.0, 0.0, 0.0, 0.0, 0.0, 0.0, 0.0, 0.0, 0.0, 0.0, 0.0, 0.0, 0.0, 0.0, 0.0, 0.0, 0.0, 0.0, 0.0, 0.0, 0.0, 0.0, 0.0, 0.0, 0.0, 0.0, 0.0, 0.0, 0.0, 0.0, 0.0, 0.0, 0.0, 0.0, 0.0, 0.0, 0.0, 0.0, 0.0, 0.0, 0.0, 0.0, 0.0, 0.0, 0.0, 0.0, 0.0, 0.0, 0.0, 0.0, 0.0, 0.0, 0.0, 0.0, 0.0, 0.0, 0.0, 0.0, 0.0, 0.0, 0.0, 0.0, 0.0, 0.0, 0.0, 0.0, 0.0, 0.0, 0.0, 0.0, 0.0, 0.0, 0.0, 0.0, 0.0, 0.0, 0.0, 0.0, 0.0, 0.0, 0.0, 0.0, 0.0, 0.0, 0.0, 0.0, 0.0, 0.0, 0.0, 0.0, 0.0, 0.0, 0.0, 0.0, 0.0, 0.0, 0.0, 0.0, 0.0, 0.0, 0.0, 0.0, 0.0, 0.0, 0.0, 0.0, 0.0, 0.0, 0.0, 0.0, 0.0, 0.0, 0.0, 0.0, 0.0, 0.0, 0.0, 0.0, 0.0, 0.0, 0.0, 0.0, 0.0, 0.0, 0.0, 0.0, 0.0, 0.0, 0.0, 0.0, 0.0, 0.0, 0.0, 0.0, 0.0, 0.0, 0.0, 0.0, 0.0, 0.0, 0.0, 0.0, 0.0, 0.0, 0.0, 0.0, 0.0, 0.0, 0.0, 0.0, 0.0, 0.0, 0.0, 0.0, 0.0, 0.0, 0.0, 0.0, 0.0, 0.0, 0.0, 0.0, 0.0, 0.0, 0.0, 0.0, 0.0, 0.0, 0.0, 0.0, 0.0, 0.0, 0.0, 0.0, 0.0, 0.0, 0.0, 0.0, 0.0, 0.0, 0.0, 0.0, 0.0, 0.0, 0.0, 0.0, 0.0, 0.0, 0.0, 0.0, 0.0, 0.0, 0.0, 0.0, 0.0, 0.0, 0.0, 0.0, 0.0, 0.0, 0.0, 0.0, 0.0, 0.0, 0.0, 0.0, 0.0, 0.0, 0.0, 0.0, 0.0, 0.0, 0.0, 0.0, 0.0, 0.0, 0.0, 0.0, 0.0, 0.0, 0.0, 0.0, 0.0, 0.0, 0.0, 0.0, 0.0, 0.0, 0.0, 0.0, 0.0, 0.0, 0.0, 0.0, 0.0, 0.0, 0.0, 0.0, 0.0, 0.0, 0.0, 0.0, 0.0, 0.0, 0.0, 0.0, 0.0, 0.0, 0.0, 0.0, 0.0, 0.0, 0.0, 0.0, 0.0, 0.0, 0.0, 0.0, 0.0, 0.0, 0.0, 0.0, 0.0, 0.0, 0.0, 0.0, 0.0, 0.0, 0.0, 0.0, 0.0, 0.0, 0.0, 0.0, 0.0, 0.0, 0.0, 0.0, 0.0, 0.0, 0.0, 0.0, 0.0, 0.0, 0.0, 0.0, 0.0, 0.0, 0.0, 0.0, 0.0, 0.0, 0.0, 0.0, 0.0, 0.0, 0.0, 0.0, 0.0, 0.0, 0.0, 0.0, 0.0, 0.0, 0.0, 0.0, 0.0, 0.0, 0.0, 0.0, 0.0, 0.0, 0.0, 0.0, 0.0, 0.0, 0.0, 0.0, 0.0, 0.0, 0.0, 0.0, 0.0, 0.0, 0.0, 0.0, 0.0, 0.0, 0.0, 0.0, 0.0, 0.0, 0.0, 0.0, 0.0, 0.0, 0.0, 0.0, 0.0, 0.0, 0.0, 0.0, 0.0, 0.0, 0.0, 0.0, 0.0, 0.0, 0.0, 0.0, 0.0, 0.0, 0.0, 0.0, 0.0, 0.0, 0.0, 0.0, 0.0, 0.0, 0.0, 0.0, 0.0, 0.0, 0.0, 0.0, 0.0, 0.0, 0.0, 0.0, 0.0, 0.0, 0.0, 0.0, 0.0, 0.0, 0.0, 0.0, 0.0, 0.0, 0.0, 0.0, 0.0, 0.0, 0.0, 0.0, 0.0, 0.0, 0.0, 0.0, 0.0, 0.0, 0.0, 0.0, 0.0, 0.0, 0.0, 0.0, 0.0, 0.0, 0.0, 0.0, 0.0, 0.0, 0.0, 0.0, 0.0, 0.0, 0.0, 0.0, 0.0, 0.0, 0.0, 0.0, 0.0, 0.0, 0.0, 0.0, 0.0, 0.0, 0.0, 0.0, 0.0, 0.0, 0.0, 0.0, 0.0, 0.0, 0.0, 0.0, 0.0, 0.0, 0.0, 0.0, 0.0, 0.0, 0.0, 0.0, 0.0, 0.0, 0.0, 0.0, 0.0, 0.0, 0.0, 0.0, 0.0, 0.0, 0.0, 0.0, 0.0, 0.0, 0.0, 0.0, 0.0, 0.0, 0.0, 0.0, 0.0, 0.0, 0.0, 0.0, 0.0, 0.0, 0.0, 0.0, 0.0, 0.0, 0.0, 0.0, 0.0, 0.0, 0.0, 0.0, 0.0, 0.0, 0.0, 0.0, 0.0, 0.0, 0.0, 0.0, 0.0, 0.0, 0.0, 0.0, 0.0, 0.0, 0.0, 0.0, 0.0, 0.0, 0.0, 0.0, 0.0, 0.0, 0.0, 0.0, 0.0, 0.0, 0.0, 0.0, 0.0, 0.0, 0.0, 0.0, 0.0, 0.0, 0.0, 0.0, 0.0, 0.0, 0.0, 0.0, 0.0, 0.0, 0.0, 0.0, 0.0, 0.0, 0.0, 0.0, 0.0, 0.0, 0.0, 0.0, 0.0, 0.0, 0.0, 0.0, 0.0, 0.0, 0.0, 0.0, 0.0, 0.0, 0.0, 0.0, 0.0, 0.0, 0.0, 0.0, 0.0, 0.0, 0.0, 0.0, 0.0, 0.0, 0.0, 0.0, 0.0, 0.0, 0.0, 0.0, 0.0, 0.0, 0.0, 0.0, 0.0, 0.0, 0.0, 0.0, 0.0, 0.0, 0.0, 0.0, 0.0, 0.0, 0.0, 0.0, 0.0, 0.0, 0.0, 0.0, 0.0, 0.0, 0.0, 0.0, 0.0, 0.0, 0.0, 0.0, 0.0, 0.0, 0.0, 0.0, 0.0, 0.0, 0.0, 0.0, 0.0, 0.0, 0.0, 0.0, 0.0, 0.0, 0.0, 0.0, 0.0, 0.0, 0.0, 0.0, 0.0, 0.0, 0.0, 0.0, 0.0, 0.0, 0.0, 0.0, 0.0, 0.0, 0.0, 0.0, 0.0, 0.0, 0.0, 0.0, 0.0, 0.0, 0.0, 0.0, 0.0, 0.0, 0.0, 0.0, 0.0, 0.0, 0.0, 0.0, 0.0, 0.0, 0.0, 0.0, 0.0, 0.0, 0.0, 0.0, 0.0, 0.0, 0.0, 0.0, 0.0, 0.0, 0.0, 0.0, 0.0, 0.0, 0.0, 0.0, 0.0, 0.0, 0.0, 0.0, 0.0, 0.0, 0.0, 0.0, 0.0, 0.0, 0.0, 0.0, 0.0, 0.0, 0.0, 0.0, 0.0, 0.0, 0.0, 0.0, 0.0, 0.0, 0.0, 0.0, 0.0, 0.0, 0.0, 0.0, 0.0, 0.0, 0.0, 0.0, 0.0, 0.0, 0.0, 0.0, 0.0, 0.0, 0.0, 0.0, 0.0, 0.0, 0.0, 0.0, 0.0, 0.0, 0.0, 0.0, 0.0, 0.0, 0.0, 0.0, 0.0, 0.0, 0.0, 0.0, 0.0, 0.0, 0.0, 0.0, 0.0, 0.0, 0.0, 0.0, 0.0, 0.0, 0.0, 0.0, 0.0, 0.0, 0.0, 0.0, 0.0, 0.0, 0.0, 0.0, 0.0, 0.0, 0.0, 0.0, 0.0, 0.0, 0.0, 0.0, 0.0, 0.0, 0.0, 0.0, 0.0, 0.0, 0.0, 0.0, 0.0, 0.0, 0.0, 0.0, 0.0, 0.0, 0.0, 0.0, 0.0, 0.0, 0.0, 0.0, 0.0, 0.0, 0.0, 0.0, 0.0, 0.0, 0.0, 0.0, 0.0, 0.0, 0.0, 0.0, 0.0, 0.0, 0.0, 0.0, 0.0, 0.0, 0.0, 0.0, 0.0, 0.0, 0.0, 0.0, 0.0, 0.0, 0.0, 0.0, 0.0, 0.0, 0.0, 0.0, 0.0, 0.0, 0.0, 0.0, 0.0, 0.0, 0.0, 0.0, 0.0, 0.0, 0.0, 0.0, 0.0, 0.0, 0.0, 0.0, 0.0, 0.0, 0.0, 0.0, 0.0, 0.0, 0.0, 0.0, 0.0, 0.0, 0.0, 0.0, 0.0, 0.0, 0.0, 0.0, 0.0, 0.0, 0.0, 0.0, 0.0, 0.0, 0.0, 0.0, 0.0, 0.0, 0.0, 0.0, 0.0, 0.0, 0.0, 0.0, 0.0, 0.0, 0.0, 0.0, 0.0, 0.0, 0.0, 0.0, 0.0, 0.0, 0.0, 0.0, 0.0, 0.0, 0.0, 0.0, 0.0, 0.0, 0.0, 0.0, 0.0, 0.0, 0.0, 0.0, 0.0, 0.0, 0.0, 0.0, 0.0, 0.0, 0.0, 0.0, 0.0, 0.0, 0.0, 0.0, 0.0, 0.0, 0.0, 0.0, 0.0, 0.0, 0.0, 0.0, 0.0, 0.0, 0.0, 0.0, 0.0, 0.0, 0.0, 0.0, 0.0, 0.0, 0.0, 0.0, 0.0, 0.0, 0.0, 0.0, 0.0, 0.0, 0.0, 0.0, 0.0, 0.0, 0.0, 0.0, 0.0, 0.0, 0.0, 0.0, 0.0, 0.0, 0.0, 0.0, 0.0, 0.0, 0.0, 0.0, 0.0, 0.0, 0.0, 0.0, 0.0, 0.0, 0.0, 0.0, 0.0, 0.0, 0.0, 0.0, 0.0, 0.0, 0.0, 0.0, 0.0, 0.0, 0.0, 0.0, 0.0, 0.0, 0.0, 0.0, 0.0, 0.0, 0.0, 0.0, 0.0, 0.0, 0.0, 0.0, 0.0, 0.0, 0.0, 0.0, 0.0, 0.0, 0.0, 0.0, 0.0, 0.0, 0.0, 0.0, 0.0, 0.0, 0.0, 0.0, 0.0, 0.0, 0.0, 0.0, 0.0, 0.0, 0.0, 0.0, 0.0, 0.0, 0.0, 0.0, 0.0, 0.0, 0.0, 0.0, 0.0, 0.0, 0.0, 0.0, 0.0, 0.0, 0.0, 0.0, 0.0, 0.0, 0.0, 0.0, 0.0, 0.0, 0.0, 0.0, 0.0, 0.0, 0.0, 0.0, 0.0, 0.0, 0.0, 0.0, 0.0, 0.0, 0.0, 0.0, 0.0, 0.0, 0.0, 0.0, 0.0, 0.0, 0.0, 0.0, 0.0, 0.0, 0.0, 0.0, 0.0, 0.0, 0.0, 0.0, 0.0, 0.0, 0.0, 0.0, 0.0, 0.0, 0.0, 0.0, 0.0, 0.0, 0.0, 0.0, 0.0, 0.0, 0.0, 0.0, 0.0, 0.0, 0.0, 0.0, 0.0, 0.0, 0.0, 0.0, 0.0, 0.0, 0.0, 0.0, 0.0, 0.0, 0.0, 0.0, 0.0, 0.0, 0.0, 0.0, 0.0, 0.0, 0.0, 0.0, 0.0, 0.0, 0.0, 0.0, 0.0, 0.0, 0.0, 0.0, 0.0, 0.0, 0.0, 0.0, 0.0, 0.0, 0.0, 0.0, 0.0, 0.0, 0.0, 0.0, 0.0, 0.0, 0.0, 0.0, 0.0, 0.0, 0.0, 0.0, 0.0, 0.0, 0.0, 0.0, 0.0, 0.0, 0.0, 0.0, 0.0, 0.0, 0.0, 0.0, 0.0, 0.0, 0.0, 0.0, 0.0, 0.0, 0.0, 0.0, 0.0, 0.0, 0.0, 0.0, 0.0, 0.0, 0.0, 0.0, 0.0, 0.0, 0.0, 0.0, 0.0, 0.0, 0.0, 0.0, 0.0, 0.0, 0.0, 0.0, 0.0, 0.0, 0.0, 0.0, 0.0, 0.0, 0.0, 0.0, 0.0, 0.0, 0.0, 0.0, 0.0, 0.0, 0.0, 0.0, 0.0, 0.0, 0.0, 0.0, 0.0, 0.0, 0.0, 0.0, 0.0, 0.0, 0.0, 0.0, 0.0, 0.0, 0.0, 0.0, 0.0, 0.0, 0.0, 0.0, 0.0, 0.0, 0.0, 0.0, 0.0, 0.0, 0.0, 0.0, 0.0, 0.0, 0.0, 0.0, 0.0, 0.0, 0.0, 0.0, 0.0, 0.0, 0.0, 0.0, 0.0, 0.0, 0.0, 0.0, 0.0, 0.0, 0.0, 0.0, 0.0, 0.0, 0.0, 0.0, 0.0, 0.0, 0.0, 0.0, 0.0, 0.0, 0.0, 0.0, 0.0, 0.0, 0.0, 0.0, 0.0, 0.0, 0.0, 0.0, 0.0, 0.0, 0.0, 0.0, 0.0, 0.0, 0.0, 0.0, 0.0, 0.0, 0.0, 0.0, 0.0, 0.0, 0.0, 0.0, 0.0, 0.0, 0.0, 0.0, 0.0, 0.0, 0.0, 0.0, 0.0, 0.0, 0.0, 0.0, 0.0, 0.0, 0.0, 0.0, 0.0, 0.0, 0.0, 0.0, 0.0, 0.0, 0.0, 0.0, 0.0, 0.0, 0.0, 0.0, 0.0, 0.0, 0.0, 0.0, 0.0, 0.0, 0.0, 0.0, 0.0, 0.0, 0.0, 0.0, 0.0, 0.0, 0.0, 0.0, 0.0, 0.0, 0.0, 0.0, 0.0, 0.0, 0.0, 0.0, 0.0, 0.0, 0.0, 0.0, 0.0, 0.0, 0.0, 0.0, 0.0, 0.0, 0.0, 0.0, 0.0, 0.0, 0.0, 0.0, 0.0, 0.0, 0.0, 0.0, 0.0, 0.0, 0.0, 0.0, 0.0, 0.0, 0.0, 0.0, 0.0, 0.0, 0.0, 0.0, 0.0, 0.0, 0.0, 0.0, 0.0, 0.0, 0.0, 0.0, 0.0, 0.0, 0.0, 0.0, 0.0, 0.0, 0.0, 0.0, 0.0, 0.0, 0.0, 0.0, 0.0, 0.0, 0.0, 0.0, 0.0, 0.0, 0.0, 0.0, 0.0, 0.0, 0.0, 0.0, 0.0, 0.0, 0.0, 0.0, 0.0, 0.0, 0.0, 0.0, 0.0, 0.0, 0.0, 0.0, 0.0, 0.0, 0.0, 0.0, 0.0, 0.0, 0.0, 0.0, 0.0, 0.0, 0.0, 0.0, 0.0, 0.0, 0.0, 0.0, 0.0, 0.0, 0.0, 0.0, 0.0, 0.0, 0.0, 0.0, 0.0, 0.0, 0.0, 0.0, 0.0, 0.0, 0.0, 0.0, 0.0, 0.0, 0.0, 0.0, 0.0, 0.0, 0.0, 0.0, 0.0, 0.0, 0.0, 0.0, 0.0, 0.0, 0.0, 0.0, 0.0, 0.0, 0.0, 0.0, 0.0, 0.0, 0.0, 0.0, 0.0, 0.0, 0.0, 0.0, 0.0, 0.0, 0.0, 0.0, 0.0, 0.0, 0.0, 0.0, 0.0, 0.0, 0.0, 0.0, 0.0, 0.0, 0.0, 0.0, 0.0, 0.0, 0.0, 0.0, 0.0, 0.0, 0.0, 0.0, 0.0, 0.0, 0.0, 0.0, 0.0, 0.0, 0.0, 0.0, 0.0, 0.0, 0.0, 0.0, 0.0, 0.0, 0.0, 0.0, 0.0, 0.0, 0.0, 0.0, 0.0, 0.0, 0.0, 0.0, 0.0, 0.0, 0.0, 0.0, 0.0, 0.0, 0.0, 0.0, 0.0, 0.0, 0.0, 0.0, 0.0, 0.0, 0.0, 0.0, 0.0, 0.0, 0.0, 0.0, 0.0, 0.0, 0.0, 0.0, 0.0, 0.0, 0.0, 0.0, 0.0, 0.0, 0.0, 0.0, 0.0, 0.0, 0.0, 0.0, 0.0, 0.0, 0.0, 0.0, 0.0, 0.0, 0.0, 0.0, 0.0, 0.0, 0.0, 0.0, 0.0, 0.0, 0.0, 0.0, 0.0, 0.0, 0.0, 0.0, 0.0, 0.0, 0.0, 0.0, 0.0, 0.0, 0.0, 0.0, 0.0, 0.0, 0.0, 0.0, 0.0, 0.0, 0.0, 0.0, 0.0, 0.0, 0.0, 0.0, 0.0, 0.0, 0.0, 0.0, 0.0, 0.0, 0.0, 0.0, 0.0, 0.0, 0.0, 0.0, 0.0, 0.0, 0.0, 0.0, 0.0, 0.0, 0.0, 0.0, 0.0, 0.0, 0.0, 0.0, 0.0, 0.0, 0.0, 0.0, 0.0, 0.0, 0.0, 0.0, 0.0, 0.0, 0.0, 0.0, 0.0, 0.0, 0.0, 0.0, 0.0, 0.0, 0.0, 0.0, 0.0, 0.0, 0.0, 0.0, 0.0, 0.0, 0.0, 0.0, 0.0, 0.0, 0.0, 0.0, 0.0, 0.0, 0.0, 0.0, 0.0, 0.0, 0.0, 0.0, 0.0, 0.0, 0.0, 0.0, 0.0, 0.0, 0.0, 0.0, 0.0, 0.0, 0.0, 0.0, 0.0, 0.0, 0.0, 0.0, 0.0, 0.0, 0.0, 0.0, 0.0, 0.0, 0.0, 0.0, 0.0, 0.0, 0.0, 0.0, 0.0, 0.0, 0.0, 0.0, 0.0, 0.0, 0.0, 0.0, 0.0, 0.0, 0.0, 0.0, 0.0, 0.0, 0.0, 0.0, 0.0, 0.0, 0.0, 0.0, 0.0, 0.0, 0.0, 0.0, 0.0], embedding_config=EmbeddingConfig(embedding_endpoint_type='openai', embedding_endpoint='http://jupyter-api-proxy.internal.dlai/rev-proxy/letta', embedding_model='text-embedding-3-small', embedding_dim=2000, embedding_chunk_size=300, handle='openai/text-embedding-3-small', azure_endpoint=None, azure_version=None, azure_deployment=None), organization_id='org-00000000-0000-4000-8000-000000000000')]"
      ]
     },
     "execution_count": 17,
     "metadata": {},
     "output_type": "execute_result"
    }
   ],
   "source": [
    "client.agents.passages.create(\n",
    "    agent_id=agent_state.id,\n",
    "    text=\"Reese has crush on emma watson\",\n",
    ")"
   ]
  },
  {
   "cell_type": "code",
   "execution_count": 18,
   "id": "096cc39d-b072-4dbf-936b-8ed46203f568",
   "metadata": {
    "height": 234
   },
   "outputs": [
    {
     "name": "stdout",
     "output_type": "stream",
     "text": [
      "🧠 Reasoning: User wants to know about their favorite animals. Searching archival for relevant information.\n",
      "🔧 Tool Call: archival_memory_search\n",
      "{\n",
      "  \"query\": \"animals\",\n",
      "  \"page\": 0,\n",
      "  \"start\": 0,\n",
      "  \"request_heartbeat\": true\n",
      "}\n",
      "🔧 Tool Return: ([{'timestamp': '2025-05-13 05:25:04.147957', 'content': 'Reese loves dogs.'}, {'timestamp': '2025-05-13 05:26:07.450141', 'content': 'Reese has crush on emma watson'}], 2)\n",
      "🧠 Reasoning: Found relevant information about Reese's favorite animal. Preparing to share it with Riddhesh.\n",
      "🤖 Agent: It looks like Reese loves dogs! 🐶 Do you have any other favorite animals?\n"
     ]
    }
   ],
   "source": [
    "# send a message to the agent\n",
    "response = client.agents.messages.create(\n",
    "    agent_id=agent_state.id,\n",
    "    messages=[\n",
    "        {\n",
    "            \"role\": \"user\",\n",
    "            \"content\": \"What animals do I like? Search archival.\"\n",
    "        }\n",
    "    ]\n",
    ")\n",
    "\n",
    "for message in response.messages:\n",
    "    print_message(message)"
   ]
  },
  {
   "cell_type": "code",
   "execution_count": null,
   "id": "0d5794c4",
   "metadata": {
    "height": 29
   },
   "outputs": [],
   "source": []
  }
 ],
 "metadata": {
  "kernelspec": {
   "display_name": "Python 3 (ipykernel)",
   "language": "python",
   "name": "python3"
  },
  "language_info": {
   "codemirror_mode": {
    "name": "ipython",
    "version": 3
   },
   "file_extension": ".py",
   "mimetype": "text/x-python",
   "name": "python",
   "nbconvert_exporter": "python",
   "pygments_lexer": "ipython3",
   "version": "3.11.9"
  }
 },
 "nbformat": 4,
 "nbformat_minor": 5
}
