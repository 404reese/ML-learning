{
 "cells": [
  {
   "cell_type": "markdown",
   "id": "4afc3580d148e5df",
   "metadata": {},
   "source": [
    "# Unit 5: Multi-agent Orchestration"
   ]
  },
  {
   "cell_type": "markdown",
   "id": "1fc645c4cb6f9c1c",
   "metadata": {},
   "source": [
    "## Section 0: Setup a Letta client"
   ]
  },
  {
   "cell_type": "code",
   "execution_count": 1,
   "id": "a7a039f8-ea25-4d4e-9903-ba146ffe33bb",
   "metadata": {
    "height": 64
   },
   "outputs": [],
   "source": [
    "from letta_client import Letta\n",
    "\n",
    "client = Letta(base_url=\"http://localhost:8283\")"
   ]
  },
  {
   "cell_type": "code",
   "execution_count": 2,
   "id": "07d24220-706f-4ccf-b9f4-89a402756231",
   "metadata": {
    "height": 353
   },
   "outputs": [],
   "source": [
    "def print_message(message):\n",
    "    if message.message_type == \"reasoning_message\":\n",
    "        print(\"🧠 Reasoning: \" + message.reasoning)\n",
    "    elif message.message_type == \"assistant_message\":\n",
    "        print(\"🤖 Agent: \" + message.content)\n",
    "    elif message.message_type == \"tool_call_message\":\n",
    "        print(\"🔧 Tool Call: \" + message.tool_call.name +  \\\n",
    "              \"\\n\" + message.tool_call.arguments)\n",
    "    elif message.message_type == \"tool_return_message\":\n",
    "        print(\"🔧 Tool Return: \" + message.tool_return)\n",
    "    elif message.message_type == \"user_message\":\n",
    "        print(\"👤 User Message: \" + message.content)\n",
    "    elif message.message_type == \"system_message\":\n",
    "        print(\" System Message: \" + message.content)\n",
    "    elif message.message_type == \"usage_statistics\":\n",
    "        # for streaming specifically, we send the final\n",
    "        # chunk that contains the usage statistics\n",
    "        print(f\"Usage: [{message}]\")\n",
    "        return\n",
    "    print(\"-----------------------------------------------------\")"
   ]
  },
  {
   "cell_type": "markdown",
   "id": "d416863a-42a1-4049-922c-e10ff1afe4dc",
   "metadata": {},
   "source": [
    "## Section 1: Shared Memory Block"
   ]
  },
  {
   "cell_type": "markdown",
   "id": "b1afe5c8de3d7b6d",
   "metadata": {},
   "source": [
    "### Creating a shared memory block"
   ]
  },
  {
   "cell_type": "code",
   "execution_count": 3,
   "id": "0705a088-7af0-4518-916b-b90407a97ff3",
   "metadata": {
    "height": 166
   },
   "outputs": [],
   "source": [
    "company_description = \"The company is called AgentOS \" \\\n",
    "+ \"and is building AI tools to make it easier to create \" \\\n",
    "+ \"and deploy LLM agents.\"\n",
    "\n",
    "company_block = client.blocks.create(\n",
    "    value=company_description,\n",
    "    label=\"company\",\n",
    "    limit=10000 # character limit\n",
    ")"
   ]
  },
  {
   "cell_type": "code",
   "execution_count": 4,
   "id": "802f9b54-f808-4899-a503-ef022b3e9f46",
   "metadata": {
    "height": 30
   },
   "outputs": [
    {
     "data": {
      "text/plain": [
       "Block(value='The company is called AgentOS and is building AI tools to make it easier to create and deploy LLM agents.', limit=10000, name=None, is_template=False, label='company', description=None, metadata={}, id='block-31598ee1-6bb8-4a94-b4c9-9ca67119cf96', created_by_id=None, last_updated_by_id=None, organization_id='org-00000000-0000-4000-8000-000000000000')"
      ]
     },
     "execution_count": 4,
     "metadata": {},
     "output_type": "execute_result"
    }
   ],
   "source": [
    "company_block"
   ]
  },
  {
   "cell_type": "markdown",
   "id": "f43782d3-4001-454a-b04b-4d313b196fc9",
   "metadata": {},
   "source": [
    "## Section 2: Orchestrating Multiple Agents"
   ]
  },
  {
   "cell_type": "markdown",
   "id": "c7410dc7204beef3",
   "metadata": {},
   "source": [
    "### Creating tools for the outreach agent"
   ]
  },
  {
   "cell_type": "code",
   "execution_count": 5,
   "id": "fccf3104-9aa6-42a3-a68c-81aea1a41302",
   "metadata": {
    "height": 166
   },
   "outputs": [],
   "source": [
    "def draft_candidate_email(content: str):\n",
    "    \"\"\"\n",
    "    Draft an email to reach out to a candidate.\n",
    "\n",
    "    Args:\n",
    "        content (str): Content of the email\n",
    "    \"\"\"\n",
    "    return f\"Here is a draft email: {content}\"\n",
    "draft_email_tool = client.tools.upsert_from_function(func=draft_candidate_email)"
   ]
  },
  {
   "cell_type": "markdown",
   "id": "4e79fa2c736493db",
   "metadata": {},
   "source": [
    "### Creating the outreach agent"
   ]
  },
  {
   "cell_type": "code",
   "execution_count": 6,
   "id": "621a0bff-84d6-4ddf-96b8-84a5d015fab6",
   "metadata": {
    "height": 285
   },
   "outputs": [],
   "source": [
    "outreach_persona = (\n",
    "    \"You are responsible for drafting emails \"\n",
    "    \"on behalf of a company with the draft_candidate_email tool. \"\n",
    "    \"Candidates to email will be messaged to you. \"\n",
    ")\n",
    "\n",
    "outreach_agent = client.agents.create(\n",
    "    name=\"outreach_agent\",\n",
    "    memory_blocks=[\n",
    "        {\"label\": \"persona\", \"value\": outreach_persona}\n",
    "    ],\n",
    "    model=\"openai/gpt-4o-mini-2024-07-18\",\n",
    "    embedding=\"openai/text-embedding-ada-002\",\n",
    "    tools=[draft_email_tool.name],\n",
    "    block_ids=[company_block.id]\n",
    ")"
   ]
  },
  {
   "cell_type": "markdown",
   "id": "7c39188ce3d016a9",
   "metadata": {},
   "source": [
    "### Creating tools for the evaluation agent"
   ]
  },
  {
   "cell_type": "code",
   "execution_count": 7,
   "id": "085b4bc6-df65-45a2-85d1-c711e9301e12",
   "metadata": {
    "height": 200
   },
   "outputs": [],
   "source": [
    "def reject(candidate_name: str): \n",
    "    \"\"\" \n",
    "    Reject a candidate. \n",
    "\n",
    "    Args: \n",
    "        candidate_name (str): The name of the candidate\n",
    "    \"\"\"\n",
    "    return\n",
    "\n",
    "\n",
    "reject_tool = client.tools.upsert_from_function(func=reject)"
   ]
  },
  {
   "cell_type": "markdown",
   "id": "d168755eabd8abe2",
   "metadata": {},
   "source": [
    "### Creating a persona for the evaluation agent"
   ]
  },
  {
   "cell_type": "code",
   "execution_count": 8,
   "id": "1d7c600f-3c48-4278-8832-be135f80e452",
   "metadata": {
    "height": 166
   },
   "outputs": [],
   "source": [
    "skills = \"Front-end (React, Typescript) or software engineering skills\"\n",
    "\n",
    "eval_persona = (\n",
    "    f\"You are responsible for evaluating candidates. \"\n",
    "    f\"Ideal candidates have skills: {skills}. \"\n",
    "    \"Reject bad candidates with your reject tool. \"\n",
    "    f\"Send strong candidates to agent ID {outreach_agent.id}. \"\n",
    "    \"You must either reject or send candidates to the other agent. \"\n",
    ")"
   ]
  },
  {
   "cell_type": "markdown",
   "id": "65ce81d5d856374e",
   "metadata": {},
   "source": [
    "### Creating the evaluation agent"
   ]
  },
  {
   "cell_type": "code",
   "execution_count": 9,
   "id": "8268b212-605c-40e9-bdcf-ddf9a3a442a3",
   "metadata": {
    "height": 319
   },
   "outputs": [],
   "source": [
    "eval_agent = client.agents.create(\n",
    "    name=\"eval_agent\",\n",
    "    memory_blocks=[\n",
    "        {\"label\": \"persona\", \"value\": eval_persona}\n",
    "    ],\n",
    "    model=\"openai/gpt-4o-mini-2024-07-18\",\n",
    "    embedding=\"openai/text-embedding-ada-002\",\n",
    "    tool_ids=[reject_tool.id],\n",
    "    tools=['send_message_to_agent_and_wait_for_reply'],\n",
    "    include_base_tools=False,\n",
    "    block_ids=[company_block.id],\n",
    "    tool_rules = [\n",
    "        {\n",
    "            \"type\": \"exit_loop\",\n",
    "            \"tool_name\": \"send_message_to_agent_and_wait_for_reply\"\n",
    "        }\n",
    "    ]\n",
    ")"
   ]
  },
  {
   "cell_type": "code",
   "execution_count": 10,
   "id": "4f974f56-52f2-4edd-b77f-5ea2d6ad8c4c",
   "metadata": {
    "height": 30
   },
   "outputs": [
    {
     "data": {
      "text/plain": [
       "['send_message_to_agent_and_wait_for_reply', 'reject']"
      ]
     },
     "execution_count": 10,
     "metadata": {},
     "output_type": "execute_result"
    }
   ],
   "source": [
    "[tool.name for tool in eval_agent.tools]"
   ]
  },
  {
   "cell_type": "markdown",
   "id": "63d89421a63830b6",
   "metadata": {},
   "source": [
    "### Sending resume data to agents"
   ]
  },
  {
   "cell_type": "code",
   "execution_count": 11,
   "id": "28a1b392-62c9-4666-a037-132dfc15c20c",
   "metadata": {
    "height": 30
   },
   "outputs": [],
   "source": [
    "resume = open(\"resumes/tony_stark.txt\", \"r\").read()"
   ]
  },
  {
   "cell_type": "code",
   "execution_count": 12,
   "id": "3affdafc-fbb2-4115-a4b0-1e681e1431f3",
   "metadata": {
    "height": 200
   },
   "outputs": [
    {
     "name": "stdout",
     "output_type": "stream",
     "text": [
      "🧠 Reasoning: Evaluating candidate Tony Stark, who has an impressive background in React. Considering his experience and skills, he seems like a strong candidate.\n",
      "-----------------------------------------------------\n",
      "🔧 Tool Call: send_message_to_agent_and_wait_for_reply\n",
      "{\n",
      "  \"message\": \"Evaluate Tony Stark for frontend engineer position: \\n\\nFrontend Engineer - React Specialist\\nBoston, MA | (123) 456-7890 | tony.stark@email.com | LinkedIn: /in/tonystark\\n\\nSummary: Innovative Frontend Engineer with a Bachelor’s degree in Computer Science from MIT and over 6 years of experience in optimizing web applications. \\n\\nEducation: MIT - Bachelor of Science in Computer Science, graduated 2018, GPA: 4.0.\\n\\nProfessional Experience: Senior Frontend Developer at Innovatech Solutions and Frontend Developer at TechGiant Inc. \\n\\nSkills: JavaScript (ES6+), HTML5, CSS3, TypeScript, React, Redux, Next.js, Node.js, with experience in responsive design and Agile methodologies.\\n\\nProjects: Developed real-time analytics dashboard and led e-commerce platform revamp. \\n\\nCertifications: Certified React Developer and Agile Certified Practitioner. \\n\\nOverall, Tony's background and experience are designed to showcase a strong skill set in React development and an impressive academic background from MIT. \\n\\nShould I send him to agent-b7562adc-25ce-457c-a683-9243e5591e9c?\",\n",
      "  \"other_agent_id\": \"agent-b7562adc-25ce-457c-a683-9243e5591e9c\",\n",
      "  \"request_heartbeat\": true\n",
      "}\n",
      "-----------------------------------------------------\n",
      "🔧 Tool Return: agent-b7562adc-25ce-457c-a683-9243e5591e9c said: 'I've drafted the email for Tony Stark regarding the Frontend Engineer position. Would you like me to send it?'\n",
      "-----------------------------------------------------\n",
      "Usage: [message_type='usage_statistics' completion_tokens=342 prompt_tokens=2293 total_tokens=2635 step_count=1 steps_messages=None run_ids=None]\n"
     ]
    }
   ],
   "source": [
    "response = client.agents.messages.create_stream(\n",
    "    agent_id=eval_agent.id,\n",
    "    messages=[\n",
    "        {\n",
    "            \"role\": \"user\",\n",
    "            \"content\": f\"Evaluate: {resume}\"\n",
    "        }\n",
    "    ]\n",
    ")\n",
    "for message in response:\n",
    "    print_message(message)"
   ]
  },
  {
   "cell_type": "markdown",
   "id": "1e83381acdc4ced7",
   "metadata": {},
   "source": [
    "### Viewing outreach agent messages"
   ]
  },
  {
   "cell_type": "code",
   "execution_count": 13,
   "id": "5e0d5964-8efe-45a0-b266-4da2ae79d2f3",
   "metadata": {
    "height": 64
   },
   "outputs": [
    {
     "name": "stdout",
     "output_type": "stream",
     "text": [
      "🧠 Reasoning: Bootup sequence complete. Persona activated. Testing messaging functionality.\n",
      "-----------------------------------------------------\n",
      "🤖 Agent: More human than human is our motto.\n",
      "-----------------------------------------------------\n",
      "👤 User Message: {\n",
      "  \"type\": \"login\",\n",
      "  \"last_login\": \"Never (first login)\",\n",
      "  \"time\": \"2025-05-13 06:16:46 AM UTC+0000\"\n",
      "}\n",
      "-----------------------------------------------------\n",
      " System Message: {\"type\": \"system_alert\", \"message\": \"[Incoming message from agent with ID 'agent-9e2519b8-8a79-4946-b296-571281e18f14' - to reply to this message, make sure to use the 'send_message' at the end, and the system will notify the sender of your response] Evaluate Tony Stark for frontend engineer position: \\n\\nFrontend Engineer - React Specialist\\nBoston, MA | (123) 456-7890 | tony.stark@email.com | LinkedIn: /in/tonystark\\n\\nSummary: Innovative Frontend Engineer with a Bachelor\\u2019s degree in Computer Science from MIT and over 6 years of experience in optimizing web applications. \\n\\nEducation: MIT - Bachelor of Science in Computer Science, graduated 2018, GPA: 4.0.\\n\\nProfessional Experience: Senior Frontend Developer at Innovatech Solutions and Frontend Developer at TechGiant Inc. \\n\\nSkills: JavaScript (ES6+), HTML5, CSS3, TypeScript, React, Redux, Next.js, Node.js, with experience in responsive design and Agile methodologies.\\n\\nProjects: Developed real-time analytics dashboard and led e-commerce platform revamp. \\n\\nCertifications: Certified React Developer and Agile Certified Practitioner. \\n\\nOverall, Tony's background and experience are designed to showcase a strong skill set in React development and an impressive academic background from MIT. \\n\\nShould I send him to agent-b7562adc-25ce-457c-a683-9243e5591e9c?\", \"time\": \"2025-05-13 06:17:58 AM UTC+0000\"}\n",
      "-----------------------------------------------------\n",
      "🧠 Reasoning: Drafting an email to evaluate Tony Stark for the frontend engineer position. I need to highlight his impressive background and skills while confirming the next steps.\n",
      "-----------------------------------------------------\n",
      "🔧 Tool Call: draft_candidate_email\n",
      "{\n",
      "  \"content\": \"Subject: Interview Invitation - Frontend Engineer Position\\n\\nDear Tony,\\n\\nI hope this message finds you well. We were impressed by your application for the Frontend Engineer position at AgentOS, particularly your experience with React and your academic credentials from MIT.\\n\\nWe would like to invite you for an interview to discuss your background in more detail and explore how your skills could contribute to our team. Please let us know your availability for the coming week.\\n\\nLooking forward to your response!\\n\\nBest regards,\\n[Your Name]\\nAgentOS\",\n",
      "  \"request_heartbeat\": true\n",
      "}\n",
      "-----------------------------------------------------\n",
      "🔧 Tool Return: {\n",
      "  \"status\": \"OK\",\n",
      "  \"message\": \"Here is a draft email: Subject: Interview Invitation - Frontend Engineer Position\\n\\nDear Tony,\\n\\nI hope this message finds you well. We were impressed by your application for the Frontend Engineer position at AgentOS, particularly your experience with React and your academic credentials from MIT.\\n\\nWe would like to invite you for an interview to discuss your background in more detail and explore how your skills could contribute to our team. Please let us know your availability for the coming week.\\n\\nLooking forward to your response!\\n\\nBest regards,\\n[Your Name]\\nAgentOS\",\n",
      "  \"time\": \"2025-05-13 06:18:01 AM UTC+0000\"\n",
      "}\n",
      "-----------------------------------------------------\n",
      "👤 User Message: {\n",
      "  \"type\": \"heartbeat\",\n",
      "  \"reason\": \"[This is an automated system message hidden from the user] Function called using request_heartbeat=true, returning control\",\n",
      "  \"time\": \"2025-05-13 06:18:02 AM UTC+0000\"\n",
      "}\n",
      "-----------------------------------------------------\n",
      "🧠 Reasoning: Email draft for Tony Stark is ready. Now, I need to confirm whether to send it or not.\n",
      "-----------------------------------------------------\n",
      "🤖 Agent: I've drafted the email for Tony Stark regarding the Frontend Engineer position. Would you like me to send it?\n",
      "-----------------------------------------------------\n"
     ]
    }
   ],
   "source": [
    "# print messages for `outreach_agent`\n",
    "for message in client.agents.messages.list(agent_id=outreach_agent.id)[1:]: \n",
    "    print_message(message)"
   ]
  },
  {
   "cell_type": "markdown",
   "id": "5f5f132e-5477-493b-a04d-dbb2e82feb8d",
   "metadata": {},
   "source": [
    "## Section 3: Shared Memory"
   ]
  },
  {
   "cell_type": "markdown",
   "id": "9c8a554803567c34",
   "metadata": {},
   "source": [
    "### Updating information to shared memory blocks"
   ]
  },
  {
   "cell_type": "code",
   "execution_count": 14,
   "id": "e3fc3f22-449f-4646-85af-91e6479bf45c",
   "metadata": {
    "height": 200
   },
   "outputs": [
    {
     "name": "stdout",
     "output_type": "stream",
     "text": [
      "🧠 Reasoning: Updating company name to reflect rebranding. This is crucial for maintaining consistency in future communications.\n",
      "-----------------------------------------------------\n",
      "🔧 Tool Call: core_memory_replace\n",
      "{\n",
      "  \"label\": \"company\",\n",
      "  \"old_content\": \"AgentOS\",\n",
      "  \"new_content\": \"Letta\",\n",
      "  \"request_heartbeat\": true\n",
      "}\n",
      "-----------------------------------------------------\n",
      "🔧 Tool Return: None\n",
      "-----------------------------------------------------\n",
      "🧠 Reasoning: Company name updated successfully. I should acknowledge the rebranding in my response to the user.\n",
      "-----------------------------------------------------\n",
      "🤖 Agent: Thank you for the update! I've noted that the company has rebranded to Letta. If there's anything else you'd like me to assist with, just let me know!\n",
      "-----------------------------------------------------\n",
      "Usage: [message_type='usage_statistics' completion_tokens=135 prompt_tokens=6281 total_tokens=6416 step_count=2 steps_messages=None run_ids=None]\n"
     ]
    }
   ],
   "source": [
    "response = client.agents.messages.create_stream(\n",
    "    agent_id=outreach_agent.id,\n",
    "    messages=[\n",
    "        {\n",
    "            \"role\": \"user\",\n",
    "            \"content\": \"The company has rebranded to Letta\"\n",
    "        }\n",
    "    ]\n",
    ")\n",
    "for message in response:\n",
    "    print_message(message)"
   ]
  },
  {
   "cell_type": "code",
   "execution_count": 15,
   "id": "39799e40-8fd6-4dca-b104-54cedd7d3051",
   "metadata": {
    "height": 81
   },
   "outputs": [
    {
     "data": {
      "text/plain": [
       "Block(value='The company is called Letta and is building AI tools to make it easier to create and deploy LLM agents.', limit=10000, name=None, is_template=False, label='company', description=None, metadata={}, id='block-31598ee1-6bb8-4a94-b4c9-9ca67119cf96', created_by_id=None, last_updated_by_id=None, organization_id='org-00000000-0000-4000-8000-000000000000')"
      ]
     },
     "execution_count": 15,
     "metadata": {},
     "output_type": "execute_result"
    }
   ],
   "source": [
    "client.agents.blocks.retrieve(\n",
    "    agent_id=eval_agent.id, \n",
    "    block_label=\"company\"\n",
    ")"
   ]
  },
  {
   "cell_type": "code",
   "execution_count": 16,
   "id": "01842c97-0786-45fd-90c1-2509224d742b",
   "metadata": {
    "height": 81
   },
   "outputs": [
    {
     "data": {
      "text/plain": [
       "Block(value='The company is called Letta and is building AI tools to make it easier to create and deploy LLM agents.', limit=10000, name=None, is_template=False, label='company', description=None, metadata={}, id='block-31598ee1-6bb8-4a94-b4c9-9ca67119cf96', created_by_id=None, last_updated_by_id=None, organization_id='org-00000000-0000-4000-8000-000000000000')"
      ]
     },
     "execution_count": 16,
     "metadata": {},
     "output_type": "execute_result"
    }
   ],
   "source": [
    "client.agents.blocks.retrieve(\n",
    "    agent_id=outreach_agent.id, \n",
    "    block_label=\"company\"\n",
    ")"
   ]
  },
  {
   "cell_type": "markdown",
   "id": "656f50fb-46c9-4d4c-a97d-c75963736f7b",
   "metadata": {},
   "source": [
    "## Section 4: Multi-agent groups"
   ]
  },
  {
   "cell_type": "code",
   "execution_count": 17,
   "id": "436d144c-4bed-492e-86c3-c31a7ac459d3",
   "metadata": {
    "height": 300
   },
   "outputs": [],
   "source": [
    "def print_message_multiagent(message):  \n",
    "    if message.message_type == \"reasoning_message\": \n",
    "        print(f\"🧠 Reasoning ({message.name}): \" + message.reasoning) \n",
    "    elif message.message_type == \"assistant_message\": \n",
    "        print(f\"🤖 Agent ({message.name}): \" + message.content) \n",
    "    elif message.message_type == \"tool_call_message\": \n",
    "        print(f\"🔧 Tool Call ({message.name}): \" + message.tool_call.name + \"\\n\" + message.tool_call.arguments)\n",
    "    elif message.message_type == \"tool_return_message\": \n",
    "        print(f\"🔧 Tool Return ({message.name}): \" + message.tool_return)\n",
    "    elif message.message_type == \"user_message\": \n",
    "        print(\"👤 User Message: \" + message.content)\n",
    "    elif message.message_type == \"usage_statistics\": \n",
    "        # for streaming specifically, we send the final chunk that contains the usage statistics \n",
    "        print(f\"Usage: [{message}]\")\n",
    "        return \n",
    "    print(\"-----------------------------------------------------\")"
   ]
  },
  {
   "cell_type": "markdown",
   "id": "aae6a9c4de52f64",
   "metadata": {},
   "source": [
    "### Recreating the outreach and evaluation agents"
   ]
  },
  {
   "cell_type": "code",
   "execution_count": 18,
   "id": "ad8828be-820a-46d1-a784-183278c86eaf",
   "metadata": {
    "height": 404
   },
   "outputs": [],
   "source": [
    "# create the outreach agent \n",
    "outreach_agent = client.agents.create(\n",
    "    name=\"outreach_agent\",\n",
    "    memory_blocks=[\n",
    "        { \"label\": \"persona\", \"value\": outreach_persona}\n",
    "    ],\n",
    "    model=\"openai/gpt-4o-mini-2024-07-18\",\n",
    "    embedding=\"openai/text-embedding-ada-002\",\n",
    "    tool_ids=[draft_email_tool.id], \n",
    "    block_ids=[company_block.id]\n",
    ")\n",
    "\n",
    "# create the evaluation agent \n",
    "eval_agent = client.agents.create(\n",
    "    name=\"eval_agent\",\n",
    "    memory_blocks=[\n",
    "        { \"label\": \"persona\", \"value\": eval_persona}\n",
    "    ],\n",
    "    model=\"openai/gpt-4o-mini-2024-07-18\",\n",
    "    embedding=\"openai/text-embedding-ada-002\",\n",
    "    tool_ids=[reject_tool.id],\n",
    "    block_ids=[company_block.id]\n",
    ")"
   ]
  },
  {
   "cell_type": "markdown",
   "id": "21d93e3c8807d7c3",
   "metadata": {},
   "source": [
    "### Creating a round-robin agent group"
   ]
  },
  {
   "cell_type": "code",
   "execution_count": 19,
   "id": "b7596508-25f9-4ac3-aa79-e78f83036962",
   "metadata": {
    "height": 132
   },
   "outputs": [],
   "source": [
    "\"\"\"\n",
    "Round-Robin Group\n",
    "\"\"\"\n",
    "round_robin_group = client.groups.create(\n",
    "    description=\"This team is responsible for recruiting candidates.\",\n",
    "    agent_ids=[eval_agent.id, outreach_agent.id],\n",
    ")"
   ]
  },
  {
   "cell_type": "markdown",
   "id": "16653b59cf1b601f",
   "metadata": {},
   "source": [
    "### Messaging an agent group"
   ]
  },
  {
   "cell_type": "code",
   "execution_count": 20,
   "id": "e0e76277-9277-4db1-b0cb-843622bd331d",
   "metadata": {
    "height": 30
   },
   "outputs": [],
   "source": [
    "resume = open(\"resumes/spongebob_squarepants.txt\", \"r\").read()"
   ]
  },
  {
   "cell_type": "code",
   "execution_count": 21,
   "id": "b4fb5de7-631b-45e1-9c2e-e52b1a133b08",
   "metadata": {
    "height": 115
   },
   "outputs": [],
   "source": [
    "response_stream = client.groups.messages.create_stream(\n",
    "    group_id=round_robin_group.id,\n",
    "    messages=[\n",
    "       {\"role\": \"user\", \"content\": f\"Evaluate: {resume}\"}\n",
    "    ]\n",
    ")"
   ]
  },
  {
   "cell_type": "code",
   "execution_count": 22,
   "id": "f8bf8bd2-0fa1-48c2-b1d9-1bd711f38472",
   "metadata": {
    "height": 47
   },
   "outputs": [
    {
     "name": "stdout",
     "output_type": "stream",
     "text": [
      "🧠 Reasoning (eval_agent): Evaluating Spongebob Squarepants' qualifications reveals a strong academic background and relevant experience in AI research. However, I need to reject this candidate because they do not meet the front-end or software engineering skills requirement.\n",
      "-----------------------------------------------------\n",
      "🔧 Tool Call (eval_agent): reject\n",
      "{\n",
      "  \"candidate_name\": \"Spongebob Squarepants\",\n",
      "  \"request_heartbeat\": true\n",
      "}\n",
      "-----------------------------------------------------\n",
      "🔧 Tool Return (eval_agent): None\n",
      "-----------------------------------------------------\n",
      "🧠 Reasoning (eval_agent): Just rejected Spongebob's application; he has great qualifications but doesn't fit the required tech stack. Moving on to the next candidate!\n",
      "-----------------------------------------------------\n",
      "🤖 Agent (eval_agent): I've evaluated the application and provided feedback.\n",
      "-----------------------------------------------------\n",
      "🧠 Reasoning (outreach_agent): Drafting a candidate email to Spongebob Squarepants based on resume evaluation.\n",
      "-----------------------------------------------------\n",
      "🔧 Tool Call (outreach_agent): draft_candidate_email\n",
      "{\n",
      "  \"content\": \"Subject: Opportunity at Our Company\\n\\nDear Spongebob,\\n\\nI hope this message finds you well! We are impressed by your extensive experience and innovative contributions in the field of AI, particularly in agent technology. Your background in developing scalable AI solutions and your leadership at FutureTech Labs caught our attention.\\n\\nWe would love to discuss a potential opportunity for you to join our team as an AI Researcher. Your expertise aligns perfectly with our goals, and we believe you could make significant contributions to our ongoing projects.\\n\\nIf you're interested, please let us know your availability for a conversation.\\n\\nBest regards,\\n\\n[Your Name]\\n[Your Position]\\n[Your Company]\\n[Your Contact Information]\",\n",
      "  \"request_heartbeat\": true\n",
      "}\n",
      "-----------------------------------------------------\n",
      "🔧 Tool Return (outreach_agent): Here is a draft email: Subject: Opportunity at Our Company\n",
      "\n",
      "Dear Spongebob,\n",
      "\n",
      "I hope this message finds you well! We are impressed by your extensive experience and innovative contributions in the field of AI, particularly in agent technology. Your background in developing scalable AI solutions and your leadership at FutureTech Labs caught our attention.\n",
      "\n",
      "We would love to discuss a potential opportunity for you to join our team as an AI Researcher. Your expertise aligns perfectly with our goals, and we believe you could make significant contributions to our ongoing projects.\n",
      "\n",
      "If you're interested, please let us know your availability for a conversation.\n",
      "\n",
      "Best regards,\n",
      "\n",
      "[Your Name]\n",
      "[Your Position]\n",
      "[Your Company]\n",
      "[Your Contact Information]\n",
      "-----------------------------------------------------\n",
      "🧠 Reasoning (outreach_agent): The draft email for Spongebob has been created successfully. Now to relay the information back to the user.\n",
      "-----------------------------------------------------\n",
      "🤖 Agent (outreach_agent): I've drafted an email to Spongebob Squarepants regarding an opportunity at our company. Would you like to send it as is, or make any adjustments first?\n",
      "-----------------------------------------------------\n",
      "Usage: [message_type='usage_statistics' completion_tokens=411 prompt_tokens=11559 total_tokens=11970 step_count=2 steps_messages=None run_ids=None]\n"
     ]
    }
   ],
   "source": [
    "for message in response_stream: \n",
    "    print_message_multiagent(message)"
   ]
  },
  {
   "cell_type": "code",
   "execution_count": null,
   "id": "8c31c55a",
   "metadata": {
    "height": 30
   },
   "outputs": [],
   "source": []
  }
 ],
 "metadata": {
  "kernelspec": {
   "display_name": "Python 3 (ipykernel)",
   "language": "python",
   "name": "python3"
  },
  "language_info": {
   "codemirror_mode": {
    "name": "ipython",
    "version": 3
   },
   "file_extension": ".py",
   "mimetype": "text/x-python",
   "name": "python",
   "nbconvert_exporter": "python",
   "pygments_lexer": "ipython3",
   "version": "3.11.9"
  }
 },
 "nbformat": 4,
 "nbformat_minor": 5
}
